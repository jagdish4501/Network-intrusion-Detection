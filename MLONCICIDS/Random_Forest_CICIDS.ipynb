{
 "cells": [
  {
   "cell_type": "code",
   "execution_count": 1,
   "metadata": {
    "executionInfo": {
     "elapsed": 3,
     "status": "ok",
     "timestamp": 1683465443968,
     "user": {
      "displayName": "jagdish patel",
      "userId": "16316121973290148661"
     },
     "user_tz": -330
    },
    "id": "Q23MiH6q73M7"
   },
   "outputs": [],
   "source": [
    "import numpy as np \n",
    "import os\n",
    "import time\n",
    "import pandas as pd \n",
    "from scipy import stats"
   ]
  },
  {
   "cell_type": "code",
   "execution_count": 6,
   "metadata": {
    "colab": {
     "base_uri": "https://localhost:8080/"
    },
    "executionInfo": {
     "elapsed": 3,
     "status": "ok",
     "timestamp": 1683465445800,
     "user": {
      "displayName": "jagdish patel",
      "userId": "16316121973290148661"
     },
     "user_tz": -330
    },
    "id": "gvAxhZpG8hF5",
    "outputId": "340e94f9-8c42-4807-a407-cd4ce081ba4e"
   },
   "outputs": [
    {
     "name": "stdout",
     "output_type": "stream",
     "text": [
      "../Data Set/CICIDS/preprocesd_cicids.csv\n"
     ]
    }
   ],
   "source": [
    "DATASET_PATH='../Data Set/CICIDS/preprocesd_cicids.csv'\n",
    "print(DATASET_PATH)"
   ]
  },
  {
   "cell_type": "code",
   "execution_count": 7,
   "metadata": {
    "colab": {
     "base_uri": "https://localhost:8080/"
    },
    "executionInfo": {
     "elapsed": 35027,
     "status": "ok",
     "timestamp": 1683465525391,
     "user": {
      "displayName": "jagdish patel",
      "userId": "16316121973290148661"
     },
     "user_tz": -330
    },
    "id": "iX6t0sc78vqJ",
    "outputId": "b4e8f474-faf1-41a7-cf1d-af87caea90f7"
   },
   "outputs": [
    {
     "name": "stdout",
     "output_type": "stream",
     "text": [
      "Time taken to load the data:  23.375220775604248  seconds\n"
     ]
    }
   ],
   "source": [
    "# ,nrows=10000, header=0\n",
    "start = time.time()\n",
    "df=pd.read_csv(DATASET_PATH)\n",
    "df.head()\n",
    "print(\"Time taken to load the data: \", time.time()-start,\" seconds\")"
   ]
  },
  {
   "cell_type": "code",
   "execution_count": 8,
   "metadata": {
    "colab": {
     "base_uri": "https://localhost:8080/"
    },
    "executionInfo": {
     "elapsed": 6,
     "status": "ok",
     "timestamp": 1683465525391,
     "user": {
      "displayName": "jagdish patel",
      "userId": "16316121973290148661"
     },
     "user_tz": -330
    },
    "id": "UI_1Zlap9R6M",
    "outputId": "a7be7814-e071-4d3c-cdf2-bfb9925dd288"
   },
   "outputs": [
    {
     "data": {
      "text/plain": [
       "(2520798, 79)"
      ]
     },
     "execution_count": 8,
     "metadata": {},
     "output_type": "execute_result"
    }
   ],
   "source": [
    "df.shape"
   ]
  },
  {
   "cell_type": "code",
   "execution_count": 9,
   "metadata": {
    "executionInfo": {
     "elapsed": 5,
     "status": "ok",
     "timestamp": 1683465525392,
     "user": {
      "displayName": "jagdish patel",
      "userId": "16316121973290148661"
     },
     "user_tz": -330
    },
    "id": "Fk440MHw85rz"
   },
   "outputs": [],
   "source": [
    "def correlation(dataset, threshold):\n",
    "    col_corr = set()  \n",
    "    corr_matrix = dataset.corr(numeric_only=True)\n",
    "    for i in range(len(corr_matrix.columns)):\n",
    "        for j in range(i):\n",
    "            if abs(corr_matrix.iloc[i, j]) > threshold: \n",
    "              colname = corr_matrix.columns[i]                  \n",
    "              col_corr.add(colname)\n",
    "    return col_corr"
   ]
  },
  {
   "cell_type": "code",
   "execution_count": 10,
   "metadata": {
    "colab": {
     "base_uri": "https://localhost:8080/"
    },
    "executionInfo": {
     "elapsed": 60760,
     "status": "ok",
     "timestamp": 1683465586148,
     "user": {
      "displayName": "jagdish patel",
      "userId": "16316121973290148661"
     },
     "user_tz": -330
    },
    "id": "ZqdF3o7x88Ef",
    "outputId": "317ad34d-473b-4480-8d76-4a126532a87c"
   },
   "outputs": [
    {
     "data": {
      "text/plain": [
       "{' Active Min',\n",
       " ' Average Packet Size',\n",
       " ' Avg Bwd Segment Size',\n",
       " ' Avg Fwd Segment Size',\n",
       " ' Bwd IAT Min',\n",
       " ' Bwd Packet Length Mean',\n",
       " ' Bwd Packet Length Std',\n",
       " ' CWE Flag Count',\n",
       " ' ECE Flag Count',\n",
       " ' Flow IAT Max',\n",
       " ' Fwd Header Length.1',\n",
       " ' Fwd IAT Max',\n",
       " ' Fwd IAT Mean',\n",
       " ' Fwd IAT Min',\n",
       " ' Fwd IAT Std',\n",
       " ' Fwd Packet Length Mean',\n",
       " ' Fwd Packet Length Std',\n",
       " ' Idle Max',\n",
       " ' Idle Min',\n",
       " ' Max Packet Length',\n",
       " ' Packet Length Mean',\n",
       " ' Packet Length Std',\n",
       " ' Packet Length Variance',\n",
       " ' SYN Flag Count',\n",
       " ' Subflow Bwd Bytes',\n",
       " ' Subflow Bwd Packets',\n",
       " ' Subflow Fwd Bytes',\n",
       " ' Total Backward Packets',\n",
       " ' Total Length of Bwd Packets',\n",
       " ' act_data_pkt_fwd',\n",
       " ' min_seg_size_forward',\n",
       " 'Fwd IAT Total',\n",
       " 'Fwd Packets/s',\n",
       " 'Idle Mean',\n",
       " 'Subflow Fwd Packets'}"
      ]
     },
     "execution_count": 10,
     "metadata": {},
     "output_type": "execute_result"
    }
   ],
   "source": [
    "corr_features = correlation(df, 0.85)\n",
    "corr_features"
   ]
  },
  {
   "cell_type": "code",
   "execution_count": 11,
   "metadata": {
    "executionInfo": {
     "elapsed": 787,
     "status": "ok",
     "timestamp": 1683465586930,
     "user": {
      "displayName": "jagdish patel",
      "userId": "16316121973290148661"
     },
     "user_tz": -330
    },
    "id": "IUaFHjWQ9A7p"
   },
   "outputs": [],
   "source": [
    "df.drop(corr_features,axis=1,inplace=True)"
   ]
  },
  {
   "cell_type": "code",
   "execution_count": 12,
   "metadata": {
    "colab": {
     "base_uri": "https://localhost:8080/"
    },
    "executionInfo": {
     "elapsed": 9,
     "status": "ok",
     "timestamp": 1683465586931,
     "user": {
      "displayName": "jagdish patel",
      "userId": "16316121973290148661"
     },
     "user_tz": -330
    },
    "id": "Hqj321hS9GkS",
    "outputId": "36ae8bad-33d1-4498-97ac-0e7b12b004eb"
   },
   "outputs": [
    {
     "data": {
      "text/plain": [
       "(2520798, 44)"
      ]
     },
     "execution_count": 12,
     "metadata": {},
     "output_type": "execute_result"
    }
   ],
   "source": [
    "df.shape"
   ]
  },
  {
   "cell_type": "code",
   "execution_count": 13,
   "metadata": {
    "colab": {
     "base_uri": "https://localhost:8080/"
    },
    "executionInfo": {
     "elapsed": 724,
     "status": "ok",
     "timestamp": 1683465587652,
     "user": {
      "displayName": "jagdish patel",
      "userId": "16316121973290148661"
     },
     "user_tz": -330
    },
    "id": "Lk1syvonDUyu",
    "outputId": "3d91fa44-4cf6-4ea7-ab65-13194c12909d"
   },
   "outputs": [
    {
     "name": "stdout",
     "output_type": "stream",
     "text": [
      "['FTP-Patator', 'DoS slowloris', 'DoS Slowhttptest', 'SSH-Patator', 'Bot', 'Web Attack � Brute Force', 'Web Attack � XSS', 'Infiltration', 'Web Attack � Sql Injection', 'Heartbleed']\n"
     ]
    }
   ],
   "source": [
    "# create a Series with the count of rows in each group\n",
    "label_counts = df[' Label'].value_counts()\n",
    "\n",
    "# create a list of labels that have less than 10,000 rows\n",
    "labels_to_merge = label_counts[label_counts < 10000].index.tolist()\n",
    "print(labels_to_merge)"
   ]
  },
  {
   "cell_type": "code",
   "execution_count": 14,
   "metadata": {
    "executionInfo": {
     "elapsed": 1426,
     "status": "ok",
     "timestamp": 1683465589076,
     "user": {
      "displayName": "jagdish patel",
      "userId": "16316121973290148661"
     },
     "user_tz": -330
    },
    "id": "FykULyieDcBg"
   },
   "outputs": [],
   "source": [
    "# create a new label called 'Other' and merge the labels with less than 10,000 rows\n",
    "df[' Label'] = df[' Label'].apply(lambda x: 'Other' if x in labels_to_merge else x)\n",
    "# group the rows by the new 'Label' column\n",
    "grouped_df = df.groupby(' Label')"
   ]
  },
  {
   "cell_type": "code",
   "execution_count": 15,
   "metadata": {
    "colab": {
     "base_uri": "https://localhost:8080/"
    },
    "executionInfo": {
     "elapsed": 487,
     "status": "ok",
     "timestamp": 1683465589560,
     "user": {
      "displayName": "jagdish patel",
      "userId": "16316121973290148661"
     },
     "user_tz": -330
    },
    "id": "5hMnjeM6Df-B",
    "outputId": "9ffb0070-067c-4c2f-b224-7467e5bd3dc9"
   },
   "outputs": [
    {
     "data": {
      "text/plain": [
       "(2520798, 44)"
      ]
     },
     "execution_count": 15,
     "metadata": {},
     "output_type": "execute_result"
    }
   ],
   "source": [
    "df.shape"
   ]
  },
  {
   "cell_type": "code",
   "execution_count": 16,
   "metadata": {
    "colab": {
     "base_uri": "https://localhost:8080/"
    },
    "executionInfo": {
     "elapsed": 10,
     "status": "ok",
     "timestamp": 1683465589561,
     "user": {
      "displayName": "jagdish patel",
      "userId": "16316121973290148661"
     },
     "user_tz": -330
    },
    "id": "s0f9DMyYDjwj",
    "outputId": "2f35c7bc-ccc7-444b-90a7-8a48b061c374"
   },
   "outputs": [
    {
     "data": {
      "text/plain": [
       "BENIGN           2095057\n",
       "DoS Hulk          172846\n",
       "DDoS              128014\n",
       "PortScan           90694\n",
       "Other              23901\n",
       "DoS GoldenEye      10286\n",
       "Name:  Label, dtype: int64"
      ]
     },
     "execution_count": 16,
     "metadata": {},
     "output_type": "execute_result"
    }
   ],
   "source": [
    "df[' Label'].value_counts()"
   ]
  },
  {
   "cell_type": "code",
   "execution_count": 18,
   "metadata": {},
   "outputs": [
    {
     "name": "stdout",
     "output_type": "stream",
     "text": [
      "BENIGN           2095057\n",
      "DoS Hulk          172846\n",
      "DDoS              128014\n",
      "PortScan           90694\n",
      "Other              23901\n",
      "DoS GoldenEye      10286\n",
      "Name:  Label, dtype: int64\n"
     ]
    }
   ],
   "source": [
    "# Count the number of instances for each class\n",
    "class_counts = df[' Label'].value_counts()\n",
    "print(class_counts)"
   ]
  },
  {
   "cell_type": "code",
   "execution_count": 21,
   "metadata": {},
   "outputs": [
    {
     "data": {
      "image/png": "[encoded data removed]",
      "text/plain": [
       "<Figure size 800x500 with 1 Axes>"
      ]
     },
     "metadata": {},
     "output_type": "display_data"
    }
   ],
   "source": [
    "import matplotlib.pyplot as plt\n",
    "import seaborn as sns\n",
    "# Create a horizontal bar plot of the frequency distribution of classes\n",
    "fig, ax = plt.subplots(figsize=(8, 5))\n",
    "class_counts.plot(kind='barh', color=['#1f77b4', '#ff7f0e'])\n",
    "ax.set_title('Frequency Distribution of Classes in CICIDS 2017 Dataset after preprocessing', fontsize=16)\n",
    "ax.set_xlabel('Count', fontsize=12)\n",
    "ax.set_ylabel('Class', fontsize=12)\n",
    "ax.spines['right'].set_visible(False)\n",
    "ax.spines['top'].set_visible(False)\n",
    "ax.xaxis.grid(True, linestyle='--', color='gray', alpha=0.2)\n",
    "ax.tick_params(axis='both', which='major', labelsize=10)\n",
    "\n",
    "plt.tight_layout()\n",
    "plt.show()"
   ]
  },
  {
   "cell_type": "code",
   "execution_count": null,
   "metadata": {
    "colab": {
     "base_uri": "https://localhost:8080/"
    },
    "executionInfo": {
     "elapsed": 936331,
     "status": "ok",
     "timestamp": 1683377960200,
     "user": {
      "displayName": "jagdish patel",
      "userId": "16316121973290148661"
     },
     "user_tz": -330
    },
    "id": "dNAfjVO3FmaW",
    "outputId": "e3dccdc9-747f-4ae2-fd81-9a957fc348cb"
   },
   "outputs": [
    {
     "name": "stdout",
     "output_type": "stream",
     "text": [
      "Accuracy: 0.9984865915582355\n"
     ]
    }
   ],
   "source": [
    "from sklearn.ensemble import RandomForestClassifier\n",
    "from sklearn.model_selection import train_test_split\n",
    "\n",
    "# Split the data into training and test sets\n",
    "X_train, X_test, y_train, y_test = train_test_split(df.drop(' Label', axis=1), df[' Label'], test_size=0.30, random_state=0)\n",
    "\n",
    "# Create a random forest classifier\n",
    "clf = RandomForestClassifier(n_estimators=100, random_state=0)\n",
    "\n",
    "# Train the classifier on the training data\n",
    "clf.fit(X_train, y_train)\n",
    "\n",
    "# Predict the labels of the test data\n",
    "y_pred = clf.predict(X_test)\n",
    "\n",
    "# Evaluate the performance of the classifier\n",
    "accuracy = clf.score(X_test, y_test)\n",
    "print(f'Accuracy: {accuracy}')"
   ]
  },
  {
   "cell_type": "code",
   "execution_count": 19,
   "metadata": {
    "colab": {
     "base_uri": "https://localhost:8080/"
    },
    "executionInfo": {
     "elapsed": 8,
     "status": "ok",
     "timestamp": 1683465589561,
     "user": {
      "displayName": "jagdish patel",
      "userId": "16316121973290148661"
     },
     "user_tz": -330
    },
    "id": "hoifcuRLJmV4",
    "outputId": "dbb1f46b-abe4-4b20-9255-ef93d5840d7e"
   },
   "outputs": [
    {
     "data": {
      "text/plain": [
       "(2520798, 44)"
      ]
     },
     "execution_count": 19,
     "metadata": {},
     "output_type": "execute_result"
    }
   ],
   "source": [
    "df.shape"
   ]
  },
  {
   "cell_type": "code",
   "execution_count": 23,
   "metadata": {
    "executionInfo": {
     "elapsed": 580,
     "status": "ok",
     "timestamp": 1683465590137,
     "user": {
      "displayName": "jagdish patel",
      "userId": "16316121973290148661"
     },
     "user_tz": -330
    },
    "id": "37bxBrhZDnTt"
   },
   "outputs": [],
   "source": [
    "x = df.drop([' Label'],axis=1)\n",
    "y = df[' Label']"
   ]
  },
  {
   "cell_type": "code",
   "execution_count": 24,
   "metadata": {
    "colab": {
     "base_uri": "https://localhost:8080/",
     "height": 351
    },
    "executionInfo": {
     "elapsed": 12,
     "status": "ok",
     "timestamp": 1683465590138,
     "user": {
      "displayName": "jagdish patel",
      "userId": "16316121973290148661"
     },
     "user_tz": -330
    },
    "id": "fAw7jLuJDtdN",
    "outputId": "ac058df0-f1ca-4961-9bae-dd9f8b0e44c4"
   },
   "outputs": [
    {
     "data": {
      "text/html": [
       "<div>\n",
       "<style scoped>\n",
       "    .dataframe tbody tr th:only-of-type {\n",
       "        vertical-align: middle;\n",
       "    }\n",
       "\n",
       "    .dataframe tbody tr th {\n",
       "        vertical-align: top;\n",
       "    }\n",
       "\n",
       "    .dataframe thead th {\n",
       "        text-align: right;\n",
       "    }\n",
       "</style>\n",
       "<table border=\"1\" class=\"dataframe\">\n",
       "  <thead>\n",
       "    <tr style=\"text-align: right;\">\n",
       "      <th></th>\n",
       "      <th>Destination Port</th>\n",
       "      <th>Flow Duration</th>\n",
       "      <th>Total Fwd Packets</th>\n",
       "      <th>Total Length of Fwd Packets</th>\n",
       "      <th>Fwd Packet Length Max</th>\n",
       "      <th>Fwd Packet Length Min</th>\n",
       "      <th>Bwd Packet Length Max</th>\n",
       "      <th>Bwd Packet Length Min</th>\n",
       "      <th>Flow Bytes/s</th>\n",
       "      <th>Flow Packets/s</th>\n",
       "      <th>...</th>\n",
       "      <th>Fwd Avg Bulk Rate</th>\n",
       "      <th>Bwd Avg Bytes/Bulk</th>\n",
       "      <th>Bwd Avg Packets/Bulk</th>\n",
       "      <th>Bwd Avg Bulk Rate</th>\n",
       "      <th>Init_Win_bytes_forward</th>\n",
       "      <th>Init_Win_bytes_backward</th>\n",
       "      <th>Active Mean</th>\n",
       "      <th>Active Std</th>\n",
       "      <th>Active Max</th>\n",
       "      <th>Idle Std</th>\n",
       "    </tr>\n",
       "  </thead>\n",
       "  <tbody>\n",
       "    <tr>\n",
       "      <th>0</th>\n",
       "      <td>54865</td>\n",
       "      <td>3</td>\n",
       "      <td>2</td>\n",
       "      <td>12</td>\n",
       "      <td>6</td>\n",
       "      <td>6</td>\n",
       "      <td>0</td>\n",
       "      <td>0</td>\n",
       "      <td>4000000.00</td>\n",
       "      <td>666666.700</td>\n",
       "      <td>...</td>\n",
       "      <td>0</td>\n",
       "      <td>0</td>\n",
       "      <td>0</td>\n",
       "      <td>0</td>\n",
       "      <td>33</td>\n",
       "      <td>-1</td>\n",
       "      <td>0.0</td>\n",
       "      <td>0.0</td>\n",
       "      <td>0</td>\n",
       "      <td>0.0</td>\n",
       "    </tr>\n",
       "    <tr>\n",
       "      <th>1</th>\n",
       "      <td>55054</td>\n",
       "      <td>109</td>\n",
       "      <td>1</td>\n",
       "      <td>6</td>\n",
       "      <td>6</td>\n",
       "      <td>6</td>\n",
       "      <td>6</td>\n",
       "      <td>6</td>\n",
       "      <td>110091.74</td>\n",
       "      <td>18348.623</td>\n",
       "      <td>...</td>\n",
       "      <td>0</td>\n",
       "      <td>0</td>\n",
       "      <td>0</td>\n",
       "      <td>0</td>\n",
       "      <td>29</td>\n",
       "      <td>256</td>\n",
       "      <td>0.0</td>\n",
       "      <td>0.0</td>\n",
       "      <td>0</td>\n",
       "      <td>0.0</td>\n",
       "    </tr>\n",
       "    <tr>\n",
       "      <th>2</th>\n",
       "      <td>55055</td>\n",
       "      <td>52</td>\n",
       "      <td>1</td>\n",
       "      <td>6</td>\n",
       "      <td>6</td>\n",
       "      <td>6</td>\n",
       "      <td>6</td>\n",
       "      <td>6</td>\n",
       "      <td>230769.23</td>\n",
       "      <td>38461.540</td>\n",
       "      <td>...</td>\n",
       "      <td>0</td>\n",
       "      <td>0</td>\n",
       "      <td>0</td>\n",
       "      <td>0</td>\n",
       "      <td>29</td>\n",
       "      <td>256</td>\n",
       "      <td>0.0</td>\n",
       "      <td>0.0</td>\n",
       "      <td>0</td>\n",
       "      <td>0.0</td>\n",
       "    </tr>\n",
       "    <tr>\n",
       "      <th>3</th>\n",
       "      <td>46236</td>\n",
       "      <td>34</td>\n",
       "      <td>1</td>\n",
       "      <td>6</td>\n",
       "      <td>6</td>\n",
       "      <td>6</td>\n",
       "      <td>6</td>\n",
       "      <td>6</td>\n",
       "      <td>352941.20</td>\n",
       "      <td>58823.530</td>\n",
       "      <td>...</td>\n",
       "      <td>0</td>\n",
       "      <td>0</td>\n",
       "      <td>0</td>\n",
       "      <td>0</td>\n",
       "      <td>31</td>\n",
       "      <td>329</td>\n",
       "      <td>0.0</td>\n",
       "      <td>0.0</td>\n",
       "      <td>0</td>\n",
       "      <td>0.0</td>\n",
       "    </tr>\n",
       "    <tr>\n",
       "      <th>4</th>\n",
       "      <td>54863</td>\n",
       "      <td>3</td>\n",
       "      <td>2</td>\n",
       "      <td>12</td>\n",
       "      <td>6</td>\n",
       "      <td>6</td>\n",
       "      <td>0</td>\n",
       "      <td>0</td>\n",
       "      <td>4000000.00</td>\n",
       "      <td>666666.700</td>\n",
       "      <td>...</td>\n",
       "      <td>0</td>\n",
       "      <td>0</td>\n",
       "      <td>0</td>\n",
       "      <td>0</td>\n",
       "      <td>32</td>\n",
       "      <td>-1</td>\n",
       "      <td>0.0</td>\n",
       "      <td>0.0</td>\n",
       "      <td>0</td>\n",
       "      <td>0.0</td>\n",
       "    </tr>\n",
       "  </tbody>\n",
       "</table>\n",
       "<p>5 rows × 43 columns</p>\n",
       "</div>"
      ],
      "text/plain": [
       "    Destination Port   Flow Duration   Total Fwd Packets  \\\n",
       "0              54865               3                   2   \n",
       "1              55054             109                   1   \n",
       "2              55055              52                   1   \n",
       "3              46236              34                   1   \n",
       "4              54863               3                   2   \n",
       "\n",
       "   Total Length of Fwd Packets   Fwd Packet Length Max  \\\n",
       "0                           12                       6   \n",
       "1                            6                       6   \n",
       "2                            6                       6   \n",
       "3                            6                       6   \n",
       "4                           12                       6   \n",
       "\n",
       "    Fwd Packet Length Min  Bwd Packet Length Max   Bwd Packet Length Min  \\\n",
       "0                       6                      0                       0   \n",
       "1                       6                      6                       6   \n",
       "2                       6                      6                       6   \n",
       "3                       6                      6                       6   \n",
       "4                       6                      0                       0   \n",
       "\n",
       "   Flow Bytes/s   Flow Packets/s  ...   Fwd Avg Bulk Rate  \\\n",
       "0    4000000.00       666666.700  ...                   0   \n",
       "1     110091.74        18348.623  ...                   0   \n",
       "2     230769.23        38461.540  ...                   0   \n",
       "3     352941.20        58823.530  ...                   0   \n",
       "4    4000000.00       666666.700  ...                   0   \n",
       "\n",
       "    Bwd Avg Bytes/Bulk   Bwd Avg Packets/Bulk  Bwd Avg Bulk Rate  \\\n",
       "0                    0                      0                  0   \n",
       "1                    0                      0                  0   \n",
       "2                    0                      0                  0   \n",
       "3                    0                      0                  0   \n",
       "4                    0                      0                  0   \n",
       "\n",
       "   Init_Win_bytes_forward   Init_Win_bytes_backward  Active Mean   Active Std  \\\n",
       "0                      33                        -1          0.0          0.0   \n",
       "1                      29                       256          0.0          0.0   \n",
       "2                      29                       256          0.0          0.0   \n",
       "3                      31                       329          0.0          0.0   \n",
       "4                      32                        -1          0.0          0.0   \n",
       "\n",
       "    Active Max   Idle Std  \n",
       "0            0        0.0  \n",
       "1            0        0.0  \n",
       "2            0        0.0  \n",
       "3            0        0.0  \n",
       "4            0        0.0  \n",
       "\n",
       "[5 rows x 43 columns]"
      ]
     },
     "execution_count": 24,
     "metadata": {},
     "output_type": "execute_result"
    }
   ],
   "source": [
    "x.head()"
   ]
  },
  {
   "cell_type": "code",
   "execution_count": 25,
   "metadata": {
    "colab": {
     "base_uri": "https://localhost:8080/"
    },
    "executionInfo": {
     "elapsed": 11,
     "status": "ok",
     "timestamp": 1683465590138,
     "user": {
      "displayName": "jagdish patel",
      "userId": "16316121973290148661"
     },
     "user_tz": -330
    },
    "id": "Y-Bp_ArjDxF0",
    "outputId": "0ae88b9b-d925-4b0c-92f8-61d698bf890a"
   },
   "outputs": [
    {
     "data": {
      "text/plain": [
       "0    BENIGN\n",
       "1    BENIGN\n",
       "2    BENIGN\n",
       "3    BENIGN\n",
       "4    BENIGN\n",
       "Name:  Label, dtype: object"
      ]
     },
     "execution_count": 25,
     "metadata": {},
     "output_type": "execute_result"
    }
   ],
   "source": [
    "y.head()"
   ]
  },
  {
   "cell_type": "code",
   "execution_count": 26,
   "metadata": {
    "executionInfo": {
     "elapsed": 29488,
     "status": "ok",
     "timestamp": 1683465619620,
     "user": {
      "displayName": "jagdish patel",
      "userId": "16316121973290148661"
     },
     "user_tz": -330
    },
    "id": "LfY9NMzDEO79"
   },
   "outputs": [],
   "source": [
    "from imblearn.under_sampling import RandomUnderSampler\n",
    "rus = RandomUnderSampler(random_state=0)\n",
    "rus.fit(x, y)\n",
    "Xn, yn = rus.fit_resample(x, y)\n",
    "# Xn.value_counts()"
   ]
  },
  {
   "cell_type": "code",
   "execution_count": 24,
   "metadata": {
    "colab": {
     "base_uri": "https://localhost:8080/"
    },
    "executionInfo": {
     "elapsed": 18,
     "status": "ok",
     "timestamp": 1683465619621,
     "user": {
      "displayName": "jagdish patel",
      "userId": "16316121973290148661"
     },
     "user_tz": -330
    },
    "id": "cPQeJCf_Ezgy",
    "outputId": "c9b1179d-43d0-416a-82b5-4145d4faf4d2"
   },
   "outputs": [
    {
     "data": {
      "text/plain": [
       "(61716, 43)"
      ]
     },
     "execution_count": 24,
     "metadata": {},
     "output_type": "execute_result"
    }
   ],
   "source": [
    "Xn.shape"
   ]
  },
  {
   "cell_type": "code",
   "execution_count": 25,
   "metadata": {
    "colab": {
     "base_uri": "https://localhost:8080/"
    },
    "executionInfo": {
     "elapsed": 18,
     "status": "ok",
     "timestamp": 1683465619622,
     "user": {
      "displayName": "jagdish patel",
      "userId": "16316121973290148661"
     },
     "user_tz": -330
    },
    "id": "DpCVBZknE_KU",
    "outputId": "c4d8ed7e-87f9-4741-9674-34ae66c79f81"
   },
   "outputs": [
    {
     "data": {
      "text/plain": [
       "(61716,)"
      ]
     },
     "execution_count": 25,
     "metadata": {},
     "output_type": "execute_result"
    }
   ],
   "source": [
    "yn.shape"
   ]
  },
  {
   "cell_type": "code",
   "execution_count": 26,
   "metadata": {
    "colab": {
     "base_uri": "https://localhost:8080/",
     "height": 351
    },
    "executionInfo": {
     "elapsed": 16,
     "status": "ok",
     "timestamp": 1683465619625,
     "user": {
      "displayName": "jagdish patel",
      "userId": "16316121973290148661"
     },
     "user_tz": -330
    },
    "id": "aIgviU1SKLlF",
    "outputId": "079d604e-64d0-4da3-ed34-e5beee2b7164"
   },
   "outputs": [
    {
     "data": {
      "text/html": [
       "\n",
       "  <div id=\"df-63962a85-b997-4703-b126-0d57a6a8f7b1\">\n",
       "    <div class=\"colab-df-container\">\n",
       "      <div>\n",
       "<style scoped>\n",
       "    .dataframe tbody tr th:only-of-type {\n",
       "        vertical-align: middle;\n",
       "    }\n",
       "\n",
       "    .dataframe tbody tr th {\n",
       "        vertical-align: top;\n",
       "    }\n",
       "\n",
       "    .dataframe thead th {\n",
       "        text-align: right;\n",
       "    }\n",
       "</style>\n",
       "<table border=\"1\" class=\"dataframe\">\n",
       "  <thead>\n",
       "    <tr style=\"text-align: right;\">\n",
       "      <th></th>\n",
       "      <th>Destination Port</th>\n",
       "      <th>Flow Duration</th>\n",
       "      <th>Total Fwd Packets</th>\n",
       "      <th>Total Length of Fwd Packets</th>\n",
       "      <th>Fwd Packet Length Max</th>\n",
       "      <th>Fwd Packet Length Min</th>\n",
       "      <th>Bwd Packet Length Max</th>\n",
       "      <th>Bwd Packet Length Min</th>\n",
       "      <th>Flow Bytes/s</th>\n",
       "      <th>Flow Packets/s</th>\n",
       "      <th>...</th>\n",
       "      <th>Fwd Avg Bulk Rate</th>\n",
       "      <th>Bwd Avg Bytes/Bulk</th>\n",
       "      <th>Bwd Avg Packets/Bulk</th>\n",
       "      <th>Bwd Avg Bulk Rate</th>\n",
       "      <th>Init_Win_bytes_forward</th>\n",
       "      <th>Init_Win_bytes_backward</th>\n",
       "      <th>Active Mean</th>\n",
       "      <th>Active Std</th>\n",
       "      <th>Active Max</th>\n",
       "      <th>Idle Std</th>\n",
       "    </tr>\n",
       "  </thead>\n",
       "  <tbody>\n",
       "    <tr>\n",
       "      <th>0</th>\n",
       "      <td>53</td>\n",
       "      <td>62874</td>\n",
       "      <td>4</td>\n",
       "      <td>116</td>\n",
       "      <td>29</td>\n",
       "      <td>29</td>\n",
       "      <td>93</td>\n",
       "      <td>93</td>\n",
       "      <td>4803.257300</td>\n",
       "      <td>95.428955</td>\n",
       "      <td>...</td>\n",
       "      <td>0</td>\n",
       "      <td>0</td>\n",
       "      <td>0</td>\n",
       "      <td>0</td>\n",
       "      <td>-1</td>\n",
       "      <td>-1</td>\n",
       "      <td>0.00</td>\n",
       "      <td>0.000</td>\n",
       "      <td>0</td>\n",
       "      <td>0.000</td>\n",
       "    </tr>\n",
       "    <tr>\n",
       "      <th>1</th>\n",
       "      <td>57225</td>\n",
       "      <td>86</td>\n",
       "      <td>1</td>\n",
       "      <td>0</td>\n",
       "      <td>0</td>\n",
       "      <td>0</td>\n",
       "      <td>0</td>\n",
       "      <td>0</td>\n",
       "      <td>0.000000</td>\n",
       "      <td>23255.814000</td>\n",
       "      <td>...</td>\n",
       "      <td>0</td>\n",
       "      <td>0</td>\n",
       "      <td>0</td>\n",
       "      <td>0</td>\n",
       "      <td>905</td>\n",
       "      <td>229</td>\n",
       "      <td>0.00</td>\n",
       "      <td>0.000</td>\n",
       "      <td>0</td>\n",
       "      <td>0.000</td>\n",
       "    </tr>\n",
       "    <tr>\n",
       "      <th>2</th>\n",
       "      <td>80</td>\n",
       "      <td>116003861</td>\n",
       "      <td>16</td>\n",
       "      <td>440</td>\n",
       "      <td>356</td>\n",
       "      <td>0</td>\n",
       "      <td>340</td>\n",
       "      <td>0</td>\n",
       "      <td>7.344583</td>\n",
       "      <td>0.258612</td>\n",
       "      <td>...</td>\n",
       "      <td>0</td>\n",
       "      <td>0</td>\n",
       "      <td>0</td>\n",
       "      <td>0</td>\n",
       "      <td>8192</td>\n",
       "      <td>4736</td>\n",
       "      <td>46441.09</td>\n",
       "      <td>31255.098</td>\n",
       "      <td>140678</td>\n",
       "      <td>14892.001</td>\n",
       "    </tr>\n",
       "    <tr>\n",
       "      <th>3</th>\n",
       "      <td>443</td>\n",
       "      <td>5683083</td>\n",
       "      <td>8</td>\n",
       "      <td>397</td>\n",
       "      <td>216</td>\n",
       "      <td>0</td>\n",
       "      <td>1460</td>\n",
       "      <td>0</td>\n",
       "      <td>723.726870</td>\n",
       "      <td>2.463452</td>\n",
       "      <td>...</td>\n",
       "      <td>0</td>\n",
       "      <td>0</td>\n",
       "      <td>0</td>\n",
       "      <td>0</td>\n",
       "      <td>8192</td>\n",
       "      <td>119</td>\n",
       "      <td>269399.00</td>\n",
       "      <td>0.000</td>\n",
       "      <td>269399</td>\n",
       "      <td>0.000</td>\n",
       "    </tr>\n",
       "    <tr>\n",
       "      <th>4</th>\n",
       "      <td>53</td>\n",
       "      <td>23652</td>\n",
       "      <td>1</td>\n",
       "      <td>48</td>\n",
       "      <td>48</td>\n",
       "      <td>48</td>\n",
       "      <td>128</td>\n",
       "      <td>128</td>\n",
       "      <td>7441.231000</td>\n",
       "      <td>84.559450</td>\n",
       "      <td>...</td>\n",
       "      <td>0</td>\n",
       "      <td>0</td>\n",
       "      <td>0</td>\n",
       "      <td>0</td>\n",
       "      <td>-1</td>\n",
       "      <td>-1</td>\n",
       "      <td>0.00</td>\n",
       "      <td>0.000</td>\n",
       "      <td>0</td>\n",
       "      <td>0.000</td>\n",
       "    </tr>\n",
       "  </tbody>\n",
       "</table>\n",
       "<p>5 rows × 43 columns</p>\n",
       "</div>\n",
       "      <button class=\"colab-df-convert\" onclick=\"convertToInteractive('df-63962a85-b997-4703-b126-0d57a6a8f7b1')\"\n",
       "              title=\"Convert this dataframe to an interactive table.\"\n",
       "              style=\"display:none;\">\n",
       "        \n",
       "  <svg xmlns=\"http://www.w3.org/2000/svg\" height=\"24px\"viewBox=\"0 0 24 24\"\n",
       "       width=\"24px\">\n",
       "    <path d=\"M0 0h24v24H0V0z\" fill=\"none\"/>\n",
       "    <path d=\"M18.56 5.44l.94 2.06.94-2.06 2.06-.94-2.06-.94-.94-2.06-.94 2.06-2.06.94zm-11 1L8.5 8.5l.94-2.06 2.06-.94-2.06-.94L8.5 2.5l-.94 2.06-2.06.94zm10 10l.94 2.06.94-2.06 2.06-.94-2.06-.94-.94-2.06-.94 2.06-2.06.94z\"/><path d=\"M17.41 7.96l-1.37-1.37c-.4-.4-.92-.59-1.43-.59-.52 0-1.04.2-1.43.59L10.3 9.45l-7.72 7.72c-.78.78-.78 2.05 0 2.83L4 21.41c.39.39.9.59 1.41.59.51 0 1.02-.2 1.41-.59l7.78-7.78 2.81-2.81c.8-.78.8-2.07 0-2.86zM5.41 20L4 18.59l7.72-7.72 1.47 1.35L5.41 20z\"/>\n",
       "  </svg>\n",
       "      </button>\n",
       "      \n",
       "  <style>\n",
       "    .colab-df-container {\n",
       "      display:flex;\n",
       "      flex-wrap:wrap;\n",
       "      gap: 12px;\n",
       "    }\n",
       "\n",
       "    .colab-df-convert {\n",
       "      background-color: #E8F0FE;\n",
       "      border: none;\n",
       "      border-radius: 50%;\n",
       "      cursor: pointer;\n",
       "      display: none;\n",
       "      fill: #1967D2;\n",
       "      height: 32px;\n",
       "      padding: 0 0 0 0;\n",
       "      width: 32px;\n",
       "    }\n",
       "\n",
       "    .colab-df-convert:hover {\n",
       "      background-color: #E2EBFA;\n",
       "      box-shadow: 0px 1px 2px rgba(60, 64, 67, 0.3), 0px 1px 3px 1px rgba(60, 64, 67, 0.15);\n",
       "      fill: #174EA6;\n",
       "    }\n",
       "\n",
       "    [theme=dark] .colab-df-convert {\n",
       "      background-color: #3B4455;\n",
       "      fill: #D2E3FC;\n",
       "    }\n",
       "\n",
       "    [theme=dark] .colab-df-convert:hover {\n",
       "      background-color: #434B5C;\n",
       "      box-shadow: 0px 1px 3px 1px rgba(0, 0, 0, 0.15);\n",
       "      filter: drop-shadow(0px 1px 2px rgba(0, 0, 0, 0.3));\n",
       "      fill: #FFFFFF;\n",
       "    }\n",
       "  </style>\n",
       "\n",
       "      <script>\n",
       "        const buttonEl =\n",
       "          document.querySelector('#df-63962a85-b997-4703-b126-0d57a6a8f7b1 button.colab-df-convert');\n",
       "        buttonEl.style.display =\n",
       "          google.colab.kernel.accessAllowed ? 'block' : 'none';\n",
       "\n",
       "        async function convertToInteractive(key) {\n",
       "          const element = document.querySelector('#df-63962a85-b997-4703-b126-0d57a6a8f7b1');\n",
       "          const dataTable =\n",
       "            await google.colab.kernel.invokeFunction('convertToInteractive',\n",
       "                                                     [key], {});\n",
       "          if (!dataTable) return;\n",
       "\n",
       "          const docLinkHtml = 'Like what you see? Visit the ' +\n",
       "            '<a target=\"_blank\" href=https://colab.research.google.com/notebooks/data_table.ipynb>data table notebook</a>'\n",
       "            + ' to learn more about interactive tables.';\n",
       "          element.innerHTML = '';\n",
       "          dataTable['output_type'] = 'display_data';\n",
       "          await google.colab.output.renderOutput(dataTable, element);\n",
       "          const docLink = document.createElement('div');\n",
       "          docLink.innerHTML = docLinkHtml;\n",
       "          element.appendChild(docLink);\n",
       "        }\n",
       "      </script>\n",
       "    </div>\n",
       "  </div>\n",
       "  "
      ],
      "text/plain": [
       "    Destination Port   Flow Duration   Total Fwd Packets  \\\n",
       "0                 53           62874                   4   \n",
       "1              57225              86                   1   \n",
       "2                 80       116003861                  16   \n",
       "3                443         5683083                   8   \n",
       "4                 53           23652                   1   \n",
       "\n",
       "   Total Length of Fwd Packets   Fwd Packet Length Max  \\\n",
       "0                          116                      29   \n",
       "1                            0                       0   \n",
       "2                          440                     356   \n",
       "3                          397                     216   \n",
       "4                           48                      48   \n",
       "\n",
       "    Fwd Packet Length Min  Bwd Packet Length Max   Bwd Packet Length Min  \\\n",
       "0                      29                     93                      93   \n",
       "1                       0                      0                       0   \n",
       "2                       0                    340                       0   \n",
       "3                       0                   1460                       0   \n",
       "4                      48                    128                     128   \n",
       "\n",
       "   Flow Bytes/s   Flow Packets/s  ...   Fwd Avg Bulk Rate  \\\n",
       "0   4803.257300        95.428955  ...                   0   \n",
       "1      0.000000     23255.814000  ...                   0   \n",
       "2      7.344583         0.258612  ...                   0   \n",
       "3    723.726870         2.463452  ...                   0   \n",
       "4   7441.231000        84.559450  ...                   0   \n",
       "\n",
       "    Bwd Avg Bytes/Bulk   Bwd Avg Packets/Bulk  Bwd Avg Bulk Rate  \\\n",
       "0                    0                      0                  0   \n",
       "1                    0                      0                  0   \n",
       "2                    0                      0                  0   \n",
       "3                    0                      0                  0   \n",
       "4                    0                      0                  0   \n",
       "\n",
       "   Init_Win_bytes_forward   Init_Win_bytes_backward  Active Mean   Active Std  \\\n",
       "0                      -1                        -1         0.00        0.000   \n",
       "1                     905                       229         0.00        0.000   \n",
       "2                    8192                      4736     46441.09    31255.098   \n",
       "3                    8192                       119    269399.00        0.000   \n",
       "4                      -1                        -1         0.00        0.000   \n",
       "\n",
       "    Active Max   Idle Std  \n",
       "0            0      0.000  \n",
       "1            0      0.000  \n",
       "2       140678  14892.001  \n",
       "3       269399      0.000  \n",
       "4            0      0.000  \n",
       "\n",
       "[5 rows x 43 columns]"
      ]
     },
     "execution_count": 26,
     "metadata": {},
     "output_type": "execute_result"
    }
   ],
   "source": [
    "Xn.head()"
   ]
  },
  {
   "cell_type": "code",
   "execution_count": 27,
   "metadata": {
    "colab": {
     "base_uri": "https://localhost:8080/"
    },
    "executionInfo": {
     "elapsed": 15,
     "status": "ok",
     "timestamp": 1683465619628,
     "user": {
      "displayName": "jagdish patel",
      "userId": "16316121973290148661"
     },
     "user_tz": -330
    },
    "id": "aJiqx464XjYw",
    "outputId": "0fc699b2-82b0-4fbe-8504-17063e5ac738"
   },
   "outputs": [
    {
     "data": {
      "text/plain": [
       "BENIGN           10286\n",
       "DDoS             10286\n",
       "DoS GoldenEye    10286\n",
       "DoS Hulk         10286\n",
       "Other            10286\n",
       "PortScan         10286\n",
       "Name:  Label, dtype: int64"
      ]
     },
     "execution_count": 27,
     "metadata": {},
     "output_type": "execute_result"
    }
   ],
   "source": [
    "yn.value_counts()"
   ]
  },
  {
   "cell_type": "code",
   "execution_count": 44,
   "metadata": {
    "executionInfo": {
     "elapsed": 2,
     "status": "ok",
     "timestamp": 1683467180612,
     "user": {
      "displayName": "jagdish patel",
      "userId": "16316121973290148661"
     },
     "user_tz": -330
    },
    "id": "S9hC5Bp0dWDb"
   },
   "outputs": [],
   "source": [
    "#z-score   z = (x - mean) / std   \n",
    "# it can make it easier for the algorithm to learn meaningful patterns in the data\n",
    "cols = list(Xn.columns)\n",
    "for col in cols:\n",
    "    Xn[col] = stats.zscore(Xn[col])"
   ]
  },
  {
   "cell_type": "code",
   "execution_count": 45,
   "metadata": {
    "colab": {
     "base_uri": "https://localhost:8080/",
     "height": 351
    },
    "executionInfo": {
     "elapsed": 464,
     "status": "ok",
     "timestamp": 1683467185345,
     "user": {
      "displayName": "jagdish patel",
      "userId": "16316121973290148661"
     },
     "user_tz": -330
    },
    "id": "36h_-d4XKVCS",
    "outputId": "e85297de-aaec-437d-dba5-3823a86e9314"
   },
   "outputs": [
    {
     "data": {
      "text/html": [
       "\n",
       "  <div id=\"df-1683329a-d4c6-4c5c-a1d6-092ea8616fee\">\n",
       "    <div class=\"colab-df-container\">\n",
       "      <div>\n",
       "<style scoped>\n",
       "    .dataframe tbody tr th:only-of-type {\n",
       "        vertical-align: middle;\n",
       "    }\n",
       "\n",
       "    .dataframe tbody tr th {\n",
       "        vertical-align: top;\n",
       "    }\n",
       "\n",
       "    .dataframe thead th {\n",
       "        text-align: right;\n",
       "    }\n",
       "</style>\n",
       "<table border=\"1\" class=\"dataframe\">\n",
       "  <thead>\n",
       "    <tr style=\"text-align: right;\">\n",
       "      <th></th>\n",
       "      <th>Destination Port</th>\n",
       "      <th>Flow Duration</th>\n",
       "      <th>Total Fwd Packets</th>\n",
       "      <th>Total Length of Fwd Packets</th>\n",
       "      <th>Fwd Packet Length Max</th>\n",
       "      <th>Fwd Packet Length Min</th>\n",
       "      <th>Bwd Packet Length Max</th>\n",
       "      <th>Bwd Packet Length Min</th>\n",
       "      <th>Flow Bytes/s</th>\n",
       "      <th>Flow Packets/s</th>\n",
       "      <th>...</th>\n",
       "      <th>Fwd Avg Bulk Rate</th>\n",
       "      <th>Bwd Avg Bytes/Bulk</th>\n",
       "      <th>Bwd Avg Packets/Bulk</th>\n",
       "      <th>Bwd Avg Bulk Rate</th>\n",
       "      <th>Init_Win_bytes_forward</th>\n",
       "      <th>Init_Win_bytes_backward</th>\n",
       "      <th>Active Mean</th>\n",
       "      <th>Active Std</th>\n",
       "      <th>Active Max</th>\n",
       "      <th>Idle Std</th>\n",
       "    </tr>\n",
       "  </thead>\n",
       "  <tbody>\n",
       "    <tr>\n",
       "      <th>0</th>\n",
       "      <td>-0.297014</td>\n",
       "      <td>-0.679777</td>\n",
       "      <td>-0.044940</td>\n",
       "      <td>-0.040850</td>\n",
       "      <td>-0.317990</td>\n",
       "      <td>0.490016</td>\n",
       "      <td>-0.713935</td>\n",
       "      <td>2.190765</td>\n",
       "      <td>-0.038518</td>\n",
       "      <td>-0.190288</td>\n",
       "      <td>...</td>\n",
       "      <td>NaN</td>\n",
       "      <td>NaN</td>\n",
       "      <td>NaN</td>\n",
       "      <td>NaN</td>\n",
       "      <td>-0.848314</td>\n",
       "      <td>-0.194997</td>\n",
       "      <td>-0.227431</td>\n",
       "      <td>-0.131538</td>\n",
       "      <td>-0.233081</td>\n",
       "      <td>-0.200218</td>\n",
       "    </tr>\n",
       "    <tr>\n",
       "      <th>1</th>\n",
       "      <td>4.852138</td>\n",
       "      <td>-0.681388</td>\n",
       "      <td>-0.109562</td>\n",
       "      <td>-0.054611</td>\n",
       "      <td>-0.379522</td>\n",
       "      <td>-0.126985</td>\n",
       "      <td>-0.741997</td>\n",
       "      <td>-0.254225</td>\n",
       "      <td>-0.039055</td>\n",
       "      <td>0.008263</td>\n",
       "      <td>...</td>\n",
       "      <td>NaN</td>\n",
       "      <td>NaN</td>\n",
       "      <td>NaN</td>\n",
       "      <td>NaN</td>\n",
       "      <td>-0.784403</td>\n",
       "      <td>-0.153281</td>\n",
       "      <td>-0.227431</td>\n",
       "      <td>-0.131538</td>\n",
       "      <td>-0.233081</td>\n",
       "      <td>-0.200218</td>\n",
       "    </tr>\n",
       "    <tr>\n",
       "      <th>2</th>\n",
       "      <td>-0.294582</td>\n",
       "      <td>2.295346</td>\n",
       "      <td>0.213547</td>\n",
       "      <td>-0.002414</td>\n",
       "      <td>0.375840</td>\n",
       "      <td>-0.126985</td>\n",
       "      <td>-0.639404</td>\n",
       "      <td>-0.254225</td>\n",
       "      <td>-0.039054</td>\n",
       "      <td>-0.191104</td>\n",
       "      <td>...</td>\n",
       "      <td>NaN</td>\n",
       "      <td>NaN</td>\n",
       "      <td>NaN</td>\n",
       "      <td>NaN</td>\n",
       "      <td>-0.270364</td>\n",
       "      <td>0.664176</td>\n",
       "      <td>-0.189442</td>\n",
       "      <td>-0.085769</td>\n",
       "      <td>-0.139767</td>\n",
       "      <td>-0.198220</td>\n",
       "    </tr>\n",
       "    <tr>\n",
       "      <th>3</th>\n",
       "      <td>-0.261889</td>\n",
       "      <td>-0.535558</td>\n",
       "      <td>0.041222</td>\n",
       "      <td>-0.007515</td>\n",
       "      <td>0.078787</td>\n",
       "      <td>-0.126985</td>\n",
       "      <td>-0.301450</td>\n",
       "      <td>-0.254225</td>\n",
       "      <td>-0.038974</td>\n",
       "      <td>-0.191085</td>\n",
       "      <td>...</td>\n",
       "      <td>NaN</td>\n",
       "      <td>NaN</td>\n",
       "      <td>NaN</td>\n",
       "      <td>NaN</td>\n",
       "      <td>-0.270364</td>\n",
       "      <td>-0.173232</td>\n",
       "      <td>-0.007060</td>\n",
       "      <td>-0.131538</td>\n",
       "      <td>-0.054383</td>\n",
       "      <td>-0.200218</td>\n",
       "    </tr>\n",
       "    <tr>\n",
       "      <th>4</th>\n",
       "      <td>-0.297014</td>\n",
       "      <td>-0.680783</td>\n",
       "      <td>-0.109562</td>\n",
       "      <td>-0.048917</td>\n",
       "      <td>-0.277675</td>\n",
       "      <td>0.894258</td>\n",
       "      <td>-0.703374</td>\n",
       "      <td>3.110923</td>\n",
       "      <td>-0.038223</td>\n",
       "      <td>-0.190381</td>\n",
       "      <td>...</td>\n",
       "      <td>NaN</td>\n",
       "      <td>NaN</td>\n",
       "      <td>NaN</td>\n",
       "      <td>NaN</td>\n",
       "      <td>-0.848314</td>\n",
       "      <td>-0.194997</td>\n",
       "      <td>-0.227431</td>\n",
       "      <td>-0.131538</td>\n",
       "      <td>-0.233081</td>\n",
       "      <td>-0.200218</td>\n",
       "    </tr>\n",
       "  </tbody>\n",
       "</table>\n",
       "<p>5 rows × 43 columns</p>\n",
       "</div>\n",
       "      <button class=\"colab-df-convert\" onclick=\"convertToInteractive('df-1683329a-d4c6-4c5c-a1d6-092ea8616fee')\"\n",
       "              title=\"Convert this dataframe to an interactive table.\"\n",
       "              style=\"display:none;\">\n",
       "        \n",
       "  <svg xmlns=\"http://www.w3.org/2000/svg\" height=\"24px\"viewBox=\"0 0 24 24\"\n",
       "       width=\"24px\">\n",
       "    <path d=\"M0 0h24v24H0V0z\" fill=\"none\"/>\n",
       "    <path d=\"M18.56 5.44l.94 2.06.94-2.06 2.06-.94-2.06-.94-.94-2.06-.94 2.06-2.06.94zm-11 1L8.5 8.5l.94-2.06 2.06-.94-2.06-.94L8.5 2.5l-.94 2.06-2.06.94zm10 10l.94 2.06.94-2.06 2.06-.94-2.06-.94-.94-2.06-.94 2.06-2.06.94z\"/><path d=\"M17.41 7.96l-1.37-1.37c-.4-.4-.92-.59-1.43-.59-.52 0-1.04.2-1.43.59L10.3 9.45l-7.72 7.72c-.78.78-.78 2.05 0 2.83L4 21.41c.39.39.9.59 1.41.59.51 0 1.02-.2 1.41-.59l7.78-7.78 2.81-2.81c.8-.78.8-2.07 0-2.86zM5.41 20L4 18.59l7.72-7.72 1.47 1.35L5.41 20z\"/>\n",
       "  </svg>\n",
       "      </button>\n",
       "      \n",
       "  <style>\n",
       "    .colab-df-container {\n",
       "      display:flex;\n",
       "      flex-wrap:wrap;\n",
       "      gap: 12px;\n",
       "    }\n",
       "\n",
       "    .colab-df-convert {\n",
       "      background-color: #E8F0FE;\n",
       "      border: none;\n",
       "      border-radius: 50%;\n",
       "      cursor: pointer;\n",
       "      display: none;\n",
       "      fill: #1967D2;\n",
       "      height: 32px;\n",
       "      padding: 0 0 0 0;\n",
       "      width: 32px;\n",
       "    }\n",
       "\n",
       "    .colab-df-convert:hover {\n",
       "      background-color: #E2EBFA;\n",
       "      box-shadow: 0px 1px 2px rgba(60, 64, 67, 0.3), 0px 1px 3px 1px rgba(60, 64, 67, 0.15);\n",
       "      fill: #174EA6;\n",
       "    }\n",
       "\n",
       "    [theme=dark] .colab-df-convert {\n",
       "      background-color: #3B4455;\n",
       "      fill: #D2E3FC;\n",
       "    }\n",
       "\n",
       "    [theme=dark] .colab-df-convert:hover {\n",
       "      background-color: #434B5C;\n",
       "      box-shadow: 0px 1px 3px 1px rgba(0, 0, 0, 0.15);\n",
       "      filter: drop-shadow(0px 1px 2px rgba(0, 0, 0, 0.3));\n",
       "      fill: #FFFFFF;\n",
       "    }\n",
       "  </style>\n",
       "\n",
       "      <script>\n",
       "        const buttonEl =\n",
       "          document.querySelector('#df-1683329a-d4c6-4c5c-a1d6-092ea8616fee button.colab-df-convert');\n",
       "        buttonEl.style.display =\n",
       "          google.colab.kernel.accessAllowed ? 'block' : 'none';\n",
       "\n",
       "        async function convertToInteractive(key) {\n",
       "          const element = document.querySelector('#df-1683329a-d4c6-4c5c-a1d6-092ea8616fee');\n",
       "          const dataTable =\n",
       "            await google.colab.kernel.invokeFunction('convertToInteractive',\n",
       "                                                     [key], {});\n",
       "          if (!dataTable) return;\n",
       "\n",
       "          const docLinkHtml = 'Like what you see? Visit the ' +\n",
       "            '<a target=\"_blank\" href=https://colab.research.google.com/notebooks/data_table.ipynb>data table notebook</a>'\n",
       "            + ' to learn more about interactive tables.';\n",
       "          element.innerHTML = '';\n",
       "          dataTable['output_type'] = 'display_data';\n",
       "          await google.colab.output.renderOutput(dataTable, element);\n",
       "          const docLink = document.createElement('div');\n",
       "          docLink.innerHTML = docLinkHtml;\n",
       "          element.appendChild(docLink);\n",
       "        }\n",
       "      </script>\n",
       "    </div>\n",
       "  </div>\n",
       "  "
      ],
      "text/plain": [
       "    Destination Port   Flow Duration   Total Fwd Packets  \\\n",
       "0          -0.297014       -0.679777           -0.044940   \n",
       "1           4.852138       -0.681388           -0.109562   \n",
       "2          -0.294582        2.295346            0.213547   \n",
       "3          -0.261889       -0.535558            0.041222   \n",
       "4          -0.297014       -0.680783           -0.109562   \n",
       "\n",
       "   Total Length of Fwd Packets   Fwd Packet Length Max  \\\n",
       "0                    -0.040850               -0.317990   \n",
       "1                    -0.054611               -0.379522   \n",
       "2                    -0.002414                0.375840   \n",
       "3                    -0.007515                0.078787   \n",
       "4                    -0.048917               -0.277675   \n",
       "\n",
       "    Fwd Packet Length Min  Bwd Packet Length Max   Bwd Packet Length Min  \\\n",
       "0                0.490016              -0.713935                2.190765   \n",
       "1               -0.126985              -0.741997               -0.254225   \n",
       "2               -0.126985              -0.639404               -0.254225   \n",
       "3               -0.126985              -0.301450               -0.254225   \n",
       "4                0.894258              -0.703374                3.110923   \n",
       "\n",
       "   Flow Bytes/s   Flow Packets/s  ...   Fwd Avg Bulk Rate  \\\n",
       "0     -0.038518        -0.190288  ...                 NaN   \n",
       "1     -0.039055         0.008263  ...                 NaN   \n",
       "2     -0.039054        -0.191104  ...                 NaN   \n",
       "3     -0.038974        -0.191085  ...                 NaN   \n",
       "4     -0.038223        -0.190381  ...                 NaN   \n",
       "\n",
       "    Bwd Avg Bytes/Bulk   Bwd Avg Packets/Bulk  Bwd Avg Bulk Rate  \\\n",
       "0                  NaN                    NaN                NaN   \n",
       "1                  NaN                    NaN                NaN   \n",
       "2                  NaN                    NaN                NaN   \n",
       "3                  NaN                    NaN                NaN   \n",
       "4                  NaN                    NaN                NaN   \n",
       "\n",
       "   Init_Win_bytes_forward   Init_Win_bytes_backward  Active Mean   Active Std  \\\n",
       "0               -0.848314                 -0.194997    -0.227431    -0.131538   \n",
       "1               -0.784403                 -0.153281    -0.227431    -0.131538   \n",
       "2               -0.270364                  0.664176    -0.189442    -0.085769   \n",
       "3               -0.270364                 -0.173232    -0.007060    -0.131538   \n",
       "4               -0.848314                 -0.194997    -0.227431    -0.131538   \n",
       "\n",
       "    Active Max   Idle Std  \n",
       "0    -0.233081  -0.200218  \n",
       "1    -0.233081  -0.200218  \n",
       "2    -0.139767  -0.198220  \n",
       "3    -0.054383  -0.200218  \n",
       "4    -0.233081  -0.200218  \n",
       "\n",
       "[5 rows x 43 columns]"
      ]
     },
     "execution_count": 45,
     "metadata": {},
     "output_type": "execute_result"
    }
   ],
   "source": [
    "Xn.head()"
   ]
  },
  {
   "cell_type": "code",
   "execution_count": 30,
   "metadata": {
    "executionInfo": {
     "elapsed": 9,
     "status": "ok",
     "timestamp": 1683465620299,
     "user": {
      "displayName": "jagdish patel",
      "userId": "16316121973290148661"
     },
     "user_tz": -330
    },
    "id": "VGVmZ_A-Kv-9"
   },
   "outputs": [],
   "source": [
    "from sklearn.model_selection import  train_test_split\n",
    "X_train, X_test, Y_train, Y_test = train_test_split(Xn,yn,test_size=0.30,random_state=0)"
   ]
  },
  {
   "cell_type": "code",
   "execution_count": 31,
   "metadata": {
    "colab": {
     "base_uri": "https://localhost:8080/"
    },
    "executionInfo": {
     "elapsed": 8,
     "status": "ok",
     "timestamp": 1683465620299,
     "user": {
      "displayName": "jagdish patel",
      "userId": "16316121973290148661"
     },
     "user_tz": -330
    },
    "id": "5aWhrwKjK-v4",
    "outputId": "55edc169-b842-44d4-e59e-e91e25978036"
   },
   "outputs": [
    {
     "name": "stdout",
     "output_type": "stream",
     "text": [
      "True\n",
      "False\n"
     ]
    }
   ],
   "source": [
    "print(np.any(np.isnan(X_train)))\n",
    "print(np.all(np.isfinite(X_train)))"
   ]
  },
  {
   "cell_type": "code",
   "execution_count": 32,
   "metadata": {
    "executionInfo": {
     "elapsed": 9,
     "status": "ok",
     "timestamp": 1683465620301,
     "user": {
      "displayName": "jagdish patel",
      "userId": "16316121973290148661"
     },
     "user_tz": -330
    },
    "id": "8rwVGmnYLEas"
   },
   "outputs": [],
   "source": [
    "from sklearn.impute import SimpleImputer\n",
    "from sklearn.preprocessing import StandardScaler\n",
    "\n",
    "# Create an instance of SimpleImputer with 'mean' strategy to replace NaN values\n",
    "imputer = SimpleImputer(strategy='mean')\n",
    "\n",
    "# Fit the imputer to X_train and transform X_train and X_test with it\n",
    "X_train = imputer.fit_transform(X_train)\n",
    "X_test = imputer.transform(X_test)\n",
    "\n",
    "# Apply StandardScaler to X_train and X_test\n",
    "scaler = StandardScaler()\n",
    "X_train = scaler.fit_transform(X_train)\n",
    "X_test = scaler.transform(X_test)"
   ]
  },
  {
   "cell_type": "code",
   "execution_count": 33,
   "metadata": {
    "colab": {
     "base_uri": "https://localhost:8080/"
    },
    "executionInfo": {
     "elapsed": 8722,
     "status": "ok",
     "timestamp": 1683465632006,
     "user": {
      "displayName": "jagdish patel",
      "userId": "16316121973290148661"
     },
     "user_tz": -330
    },
    "id": "UsIhFS9ILL9r",
    "outputId": "7921ade3-1573-44d8-fb5d-ccf0abe99abd"
   },
   "outputs": [
    {
     "name": "stdout",
     "output_type": "stream",
     "text": [
      "Time taken to train model:  8.801031589508057  seconds\n"
     ]
    }
   ],
   "source": [
    "from sklearn.ensemble import RandomForestClassifier as RFC\n",
    "\n",
    "# model training USING RFC\n",
    "start = time.time()\n",
    "Random_Forest = RFC(max_depth=40) \n",
    "Random_Forest.fit(X_train, Y_train) \n",
    "print(\"Time taken to train model: \", time.time()-start,\" seconds\")"
   ]
  },
  {
   "cell_type": "code",
   "execution_count": 34,
   "metadata": {
    "colab": {
     "base_uri": "https://localhost:8080/"
    },
    "executionInfo": {
     "elapsed": 57529,
     "status": "ok",
     "timestamp": 1683465689533,
     "user": {
      "displayName": "jagdish patel",
      "userId": "16316121973290148661"
     },
     "user_tz": -330
    },
    "id": "XljmmUvTLRO7",
    "outputId": "51876bd4-46e9-4ec0-a9e6-28095ff7606a"
   },
   "outputs": [
    {
     "name": "stdout",
     "output_type": "stream",
     "text": [
      "Time taken to for performance matric calculation:  57.20650362968445  seconds\n"
     ]
    }
   ],
   "source": [
    "from sklearn.model_selection import cross_val_score\n",
    "from sklearn import metrics\n",
    "# performance metrics calculation of our model over training data set\n",
    "\n",
    "start = time.time()\n",
    "Predict_X =  Random_Forest.predict(X_train)\n",
    "scores = cross_val_score(Random_Forest, X_train, Y_train, cv=7)\n",
    "accuracy = metrics.accuracy_score(Y_train,Predict_X)\n",
    "confusion_matrix = metrics.confusion_matrix(Y_train, Predict_X)\n",
    "classification = metrics.classification_report(Y_train, Predict_X)\n",
    "print(\"Time taken to for performance matric calculation: \", time.time()-start,\" seconds\")"
   ]
  },
  {
   "cell_type": "code",
   "execution_count": 35,
   "metadata": {
    "colab": {
     "base_uri": "https://localhost:8080/"
    },
    "executionInfo": {
     "elapsed": 6,
     "status": "ok",
     "timestamp": 1683465689533,
     "user": {
      "displayName": "jagdish patel",
      "userId": "16316121973290148661"
     },
     "user_tz": -330
    },
    "id": "hrNEsLxjLijV",
    "outputId": "e3c81524-7dfb-49ed-a44c-635a3f240b1b"
   },
   "outputs": [
    {
     "name": "stdout",
     "output_type": "stream",
     "text": [
      "\n",
      "--------------------------- Results --------------------------------\n",
      "\n",
      "Cross Validation Mean Score:\n",
      " 0.9971759398392008\n",
      "\n",
      "Model Accuracy:\n",
      " 0.9997453762644383\n",
      "\n",
      "Confusion matrix:\n",
      " [[7187    0    0    0    6    5]\n",
      " [   0 7236    0    0    0    0]\n",
      " [   0    0 7252    0    0    0]\n",
      " [   0    0    0 7216    0    0]\n",
      " [   0    0    0    0 7227    0]\n",
      " [   0    0    0    0    0 7072]]\n",
      "\n",
      "Classification report:\n",
      "                precision    recall  f1-score   support\n",
      "\n",
      "       BENIGN       1.00      1.00      1.00      7198\n",
      "         DDoS       1.00      1.00      1.00      7236\n",
      "DoS GoldenEye       1.00      1.00      1.00      7252\n",
      "     DoS Hulk       1.00      1.00      1.00      7216\n",
      "        Other       1.00      1.00      1.00      7227\n",
      "     PortScan       1.00      1.00      1.00      7072\n",
      "\n",
      "     accuracy                           1.00     43201\n",
      "    macro avg       1.00      1.00      1.00     43201\n",
      " weighted avg       1.00      1.00      1.00     43201\n",
      "\n",
      "\n"
     ]
    }
   ],
   "source": [
    "print()\n",
    "print('--------------------------- Results --------------------------------')\n",
    "print()\n",
    "print (\"Cross Validation Mean Score:\" \"\\n\", scores.mean())\n",
    "print()\n",
    "print (\"Model Accuracy:\" \"\\n\", accuracy)\n",
    "print()\n",
    "print(\"Confusion matrix:\" \"\\n\", confusion_matrix)\n",
    "print()\n",
    "print(\"Classification report:\" \"\\n\", classification) \n",
    "print()"
   ]
  },
  {
   "cell_type": "code",
   "execution_count": 36,
   "metadata": {
    "executionInfo": {
     "elapsed": 3,
     "status": "ok",
     "timestamp": 1683465689533,
     "user": {
      "displayName": "jagdish patel",
      "userId": "16316121973290148661"
     },
     "user_tz": -330
    },
    "id": "nitIu_kCLzAh"
   },
   "outputs": [],
   "source": [
    "def plot_confusion_matrix(cm,title,cmap=None,target=None,normalize=False):\n",
    "\n",
    "    import itertools\n",
    "    accuracy = np.trace(cm) / float(np.sum(cm))\n",
    "    misclass = 1 - accuracy\n",
    "\n",
    "    if cmap is None:\n",
    "        cmap = plt.get_cmap('viridis')\n",
    "    plt.figure(figsize=(20, 20))\n",
    "    plt.imshow(cm, interpolation='nearest', cmap=cmap)\n",
    "    plt.title(title)\n",
    "    plt.colorbar()\n",
    "\n",
    "    if target is not None:\n",
    "        ticks = np.arange(len(target))\n",
    "        plt.xticks(ticks, target, rotation=45)\n",
    "        plt.yticks(ticks, target)\n",
    "    if normalize:\n",
    "        cm = cm.astype('float') / cm.sum(axis=1)[:, np.newaxis]\n",
    "\n",
    "\n",
    "    thresh = cm.max() / 1.5 if normalize else cm.max() / 2\n",
    "    for i, j in itertools.product(range(cm.shape[0]), range(cm.shape[1])):\n",
    "        if normalize:\n",
    "            plt.text(j, i, \"{:0.4f}\".format(cm[i, j]),\n",
    "                     horizontalalignment=\"center\",\n",
    "                     color=\"black\" if cm[i, j] > thresh else \"white\")\n",
    "        else:\n",
    "            plt.text(j, i, \"{:,}\".format(cm[i, j]),\n",
    "                     horizontalalignment=\"center\",\n",
    "                     color=\"black\" if cm[i, j] > thresh else \"white\")\n",
    "    plt.grid(False)\n",
    "    plt.tight_layout()\n",
    "    plt.ylabel('True label')\n",
    "    plt.xlabel('Predicted label\\naccuracy={:0.4f}; misclass={:0.4f}'.format(accuracy, misclass))\n",
    "    plt.show()\n",
    "    plt.savefig(title, bbox_inches='tight', dpi=300)"
   ]
  },
  {
   "cell_type": "code",
   "execution_count": 37,
   "metadata": {
    "colab": {
     "base_uri": "https://localhost:8080/",
     "height": 1000
    },
    "executionInfo": {
     "elapsed": 1588,
     "status": "ok",
     "timestamp": 1683465691119,
     "user": {
      "displayName": "jagdish patel",
      "userId": "16316121973290148661"
     },
     "user_tz": -330
    },
    "id": "b9C3tseUL1qx",
    "outputId": "357e48d9-5665-4f14-80a2-f2c1e307d3cd"
   },
   "outputs": [
    {
     "data": {
      "image/png": "[encoded data removed]",
      "text/plain": [
       "<Figure size 2000x2000 with 2 Axes>"
      ]
     },
     "metadata": {},
     "output_type": "display_data"
    },
    {
     "data": {
      "text/plain": [
       "<Figure size 640x480 with 0 Axes>"
      ]
     },
     "metadata": {},
     "output_type": "display_data"
    }
   ],
   "source": [
    "import matplotlib.pyplot as plt\n",
    "import seaborn as sns\n",
    "plot_confusion_matrix(cm=confusion_matrix ,title= 'Random Forest Classification')"
   ]
  },
  {
   "cell_type": "code",
   "execution_count": 41,
   "metadata": {
    "colab": {
     "base_uri": "https://localhost:8080/"
    },
    "executionInfo": {
     "elapsed": 19715,
     "status": "ok",
     "timestamp": 1683465760428,
     "user": {
      "displayName": "jagdish patel",
      "userId": "16316121973290148661"
     },
     "user_tz": -330
    },
    "id": "ot9Wf7CjOtkc",
    "outputId": "e2088f23-10fc-482f-a9a0-2cec063bb1a9"
   },
   "outputs": [
    {
     "name": "stdout",
     "output_type": "stream",
     "text": [
      "Time taken to for performance matric calculation:  19.31753897666931  seconds\n"
     ]
    }
   ],
   "source": [
    "# performance metrics calculation of our model over test data set\n",
    "start = time.time()\n",
    "Predict_X =  Random_Forest.predict(X_test)\n",
    "scores = cross_val_score(Random_Forest, X_test, Y_test, cv=7)\n",
    "accuracy = metrics.accuracy_score(Y_test,Predict_X)\n",
    "confusion_matrix = metrics.confusion_matrix(Y_test, Predict_X)\n",
    "classification = metrics.classification_report(Y_test, Predict_X)\n",
    "print(\"Time taken to for performance matric calculation: \", time.time()-start,\" seconds\")"
   ]
  },
  {
   "cell_type": "code",
   "execution_count": 42,
   "metadata": {
    "colab": {
     "base_uri": "https://localhost:8080/"
    },
    "executionInfo": {
     "elapsed": 14,
     "status": "ok",
     "timestamp": 1683465760429,
     "user": {
      "displayName": "jagdish patel",
      "userId": "16316121973290148661"
     },
     "user_tz": -330
    },
    "id": "IhfxbLoTO5qO",
    "outputId": "91463c98-bd23-4cbe-8006-21257ae341f7",
    "scrolled": true
   },
   "outputs": [
    {
     "name": "stdout",
     "output_type": "stream",
     "text": [
      "\n",
      "--------------------------- Results --------------------------------\n",
      "\n",
      "Cross Validation Mean Score:\n",
      " 0.9966513637591142\n",
      "\n",
      "Model Accuracy:\n",
      " 0.9978395895220091\n",
      "\n",
      "Confusion matrix:\n",
      " [[3074    0    2    4    5    3]\n",
      " [   0 3050    0    0    0    0]\n",
      " [   0    0 3031    2    1    0]\n",
      " [   1    0    2 3067    0    0]\n",
      " [  19    0    1    0 3039    0]\n",
      " [   0    0    0    0    0 3214]]\n",
      "\n",
      "Classification report:\n",
      "                precision    recall  f1-score   support\n",
      "\n",
      "       BENIGN       0.99      1.00      0.99      3088\n",
      "         DDoS       1.00      1.00      1.00      3050\n",
      "DoS GoldenEye       1.00      1.00      1.00      3034\n",
      "     DoS Hulk       1.00      1.00      1.00      3070\n",
      "        Other       1.00      0.99      1.00      3059\n",
      "     PortScan       1.00      1.00      1.00      3214\n",
      "\n",
      "     accuracy                           1.00     18515\n",
      "    macro avg       1.00      1.00      1.00     18515\n",
      " weighted avg       1.00      1.00      1.00     18515\n",
      "\n",
      "\n"
     ]
    }
   ],
   "source": [
    "print()\n",
    "print('--------------------------- Results --------------------------------')\n",
    "print()\n",
    "print (\"Cross Validation Mean Score:\" \"\\n\", scores.mean())\n",
    "print()\n",
    "print (\"Model Accuracy:\" \"\\n\", accuracy)\n",
    "print()\n",
    "print(\"Confusion matrix:\" \"\\n\", confusion_matrix)\n",
    "print()\n",
    "print(\"Classification report:\" \"\\n\", classification) \n",
    "print()"
   ]
  },
  {
   "cell_type": "code",
   "execution_count": 43,
   "metadata": {
    "colab": {
     "base_uri": "https://localhost:8080/",
     "height": 1000
    },
    "executionInfo": {
     "elapsed": 968,
     "status": "ok",
     "timestamp": 1683465761386,
     "user": {
      "displayName": "jagdish patel",
      "userId": "16316121973290148661"
     },
     "user_tz": -330
    },
    "id": "Vb77LRHWPDHp",
    "outputId": "1b82854a-6bfa-4183-b87e-67d364e2aa97"
   },
   "outputs": [
    {
     "data": {
      "image/png": "[encoded data removed]",
      "text/plain": [
       "<Figure size 2000x2000 with 2 Axes>"
      ]
     },
     "metadata": {},
     "output_type": "display_data"
    },
    {
     "data": {
      "text/plain": [
       "<Figure size 640x480 with 0 Axes>"
      ]
     },
     "metadata": {},
     "output_type": "display_data"
    }
   ],
   "source": [
    "plot_confusion_matrix(cm=confusion_matrix ,title= 'Random Forest Classification')"
   ]
  },
  {
   "cell_type": "code",
   "execution_count": 1,
   "metadata": {},
   "outputs": [
    {
     "ename": "NameError",
     "evalue": "name 'X_test' is not defined",
     "output_type": "error",
     "traceback": [
      "\u001b[1;31m---------------------------------------------------------------------------\u001b[0m",
      "\u001b[1;31mNameError\u001b[0m                                 Traceback (most recent call last)",
      "Cell \u001b[1;32mIn[1], line 1\u001b[0m\n\u001b[1;32m----> 1\u001b[0m \u001b[43mX_test\u001b[49m\n",
      "\u001b[1;31mNameError\u001b[0m: name 'X_test' is not defined"
     ]
    }
   ],
   "source": [
    "X_test"
   ]
  },
  {
   "cell_type": "code",
   "execution_count": null,
   "metadata": {},
   "outputs": [],
   "source": []
  }
 ],
 "metadata": {
  "colab": {
   "authorship_tag": "ABX9TyO37YkRIr0pc5XuUQvwvDyF",
   "mount_file_id": "1Us3CrBjcMA8i_4tuornOxr74baXm32PJ",
   "provenance": []
  },
  "kernelspec": {
   "display_name": "Python 3 (ipykernel)",
   "language": "python",
   "name": "python3"
  },
  "language_info": {
   "codemirror_mode": {
    "name": "ipython",
    "version": 3
   },
   "file_extension": ".py",
   "mimetype": "text/x-python",
   "name": "python",
   "nbconvert_exporter": "python",
   "pygments_lexer": "ipython3",
   "version": "3.10.0"
  }
 },
 "nbformat": 4,
 "nbformat_minor": 1
}
