{
 "cells": [
  {
   "cell_type": "code",
   "execution_count": 31,
   "metadata": {
    "colab": {
     "base_uri": "https://localhost:8080/"
    },
    "executionInfo": {
     "elapsed": 10565,
     "status": "ok",
     "timestamp": 1683480826500,
     "user": {
      "displayName": "jagdish patel",
      "userId": "16316121973290148661"
     },
     "user_tz": -330
    },
    "id": "30SM5zf3_6ol",
    "outputId": "6fec0a5c-e96d-41d1-b909-14efa75f6a8e"
   },
   "outputs": [
    {
     "name": "stdout",
     "output_type": "stream",
     "text": [
      "Drive already mounted at /content/drive; to attempt to forcibly remount, call drive.mount(\"/content/drive\", force_remount=True).\n"
     ]
    }
   ],
   "source": [
    "from google.colab import drive\n",
    "drive.mount('/content/drive')"
   ]
  },
  {
   "cell_type": "code",
   "execution_count": 33,
   "metadata": {
    "executionInfo": {
     "elapsed": 700,
     "status": "ok",
     "timestamp": 1683480834009,
     "user": {
      "displayName": "jagdish patel",
      "userId": "16316121973290148661"
     },
     "user_tz": -330
    },
    "id": "wCZ_JnMhAfw5"
   },
   "outputs": [],
   "source": [
    "import numpy as np \n",
    "import os\n",
    "import time\n",
    "import pandas as pd \n",
    "from scipy import stats\n",
    "import matplotlib.pyplot as plt\n",
    "import seaborn as sns"
   ]
  },
  {
   "cell_type": "code",
   "execution_count": 34,
   "metadata": {
    "colab": {
     "base_uri": "https://localhost:8080/"
    },
    "executionInfo": {
     "elapsed": 452,
     "status": "ok",
     "timestamp": 1683480838007,
     "user": {
      "displayName": "jagdish patel",
      "userId": "16316121973290148661"
     },
     "user_tz": -330
    },
    "id": "aRzDmNMQAkBK",
    "outputId": "9c27b0fc-3906-47b3-ab3e-a6c9d0b568c5"
   },
   "outputs": [
    {
     "name": "stdout",
     "output_type": "stream",
     "text": [
      "/content/drive/MyDrive/Colab Notebooks/preprocesd_cicids.csv\n"
     ]
    }
   ],
   "source": [
    "DATASET_PATH='/content/drive/MyDrive/Colab Notebooks/preprocesd_cicids.csv'\n",
    "print(DATASET_PATH)"
   ]
  },
  {
   "cell_type": "code",
   "execution_count": 18,
   "metadata": {
    "colab": {
     "base_uri": "https://localhost:8080/"
    },
    "executionInfo": {
     "elapsed": 38006,
     "status": "ok",
     "timestamp": 1683479207966,
     "user": {
      "displayName": "jagdish patel",
      "userId": "16316121973290148661"
     },
     "user_tz": -330
    },
    "id": "FM2cvkGbAmU-",
    "outputId": "e0b3231d-16c1-4959-8a05-817e16b99209"
   },
   "outputs": [
    {
     "name": "stdout",
     "output_type": "stream",
     "text": [
      "Time taken to load the data:  36.8602135181427  seconds\n"
     ]
    }
   ],
   "source": [
    "# ,nrows=10000, header=0\n",
    "start = time.time()\n",
    "df=pd.read_csv(DATASET_PATH)\n",
    "df.head()\n",
    "print(\"Time taken to load the data: \", time.time()-start,\" seconds\")"
   ]
  },
  {
   "cell_type": "code",
   "execution_count": 35,
   "metadata": {
    "executionInfo": {
     "elapsed": 2081,
     "status": "ok",
     "timestamp": 1683480846034,
     "user": {
      "displayName": "jagdish patel",
      "userId": "16316121973290148661"
     },
     "user_tz": -330
    },
    "id": "1NcEVXbMEP9P"
   },
   "outputs": [],
   "source": [
    "df.to_feather('output.feather')"
   ]
  },
  {
   "cell_type": "code",
   "execution_count": 36,
   "metadata": {
    "colab": {
     "base_uri": "https://localhost:8080/",
     "height": 369
    },
    "executionInfo": {
     "elapsed": 3729,
     "status": "ok",
     "timestamp": 1683480854128,
     "user": {
      "displayName": "jagdish patel",
      "userId": "16316121973290148661"
     },
     "user_tz": -330
    },
    "id": "M9nQG-KqEhgj",
    "outputId": "eb0d48a4-568a-47f5-c3b1-0d94e6d8fc74"
   },
   "outputs": [
    {
     "name": "stdout",
     "output_type": "stream",
     "text": [
      "Time taken to load the data:  2.7159292697906494  seconds\n"
     ]
    },
    {
     "data": {
      "text/html": [
       "\n",
       "  <div id=\"df-d5a3dc75-c390-459e-8ccb-44fd0c290703\">\n",
       "    <div class=\"colab-df-container\">\n",
       "      <div>\n",
       "<style scoped>\n",
       "    .dataframe tbody tr th:only-of-type {\n",
       "        vertical-align: middle;\n",
       "    }\n",
       "\n",
       "    .dataframe tbody tr th {\n",
       "        vertical-align: top;\n",
       "    }\n",
       "\n",
       "    .dataframe thead th {\n",
       "        text-align: right;\n",
       "    }\n",
       "</style>\n",
       "<table border=\"1\" class=\"dataframe\">\n",
       "  <thead>\n",
       "    <tr style=\"text-align: right;\">\n",
       "      <th></th>\n",
       "      <th>Destination Port</th>\n",
       "      <th>Flow Duration</th>\n",
       "      <th>Total Fwd Packets</th>\n",
       "      <th>Total Length of Fwd Packets</th>\n",
       "      <th>Fwd Packet Length Max</th>\n",
       "      <th>Fwd Packet Length Min</th>\n",
       "      <th>Bwd Packet Length Max</th>\n",
       "      <th>Bwd Packet Length Min</th>\n",
       "      <th>Flow Bytes/s</th>\n",
       "      <th>Flow Packets/s</th>\n",
       "      <th>...</th>\n",
       "      <th>Bwd Avg Bytes/Bulk</th>\n",
       "      <th>Bwd Avg Packets/Bulk</th>\n",
       "      <th>Bwd Avg Bulk Rate</th>\n",
       "      <th>Init_Win_bytes_forward</th>\n",
       "      <th>Init_Win_bytes_backward</th>\n",
       "      <th>Active Mean</th>\n",
       "      <th>Active Std</th>\n",
       "      <th>Active Max</th>\n",
       "      <th>Idle Std</th>\n",
       "      <th>Label</th>\n",
       "    </tr>\n",
       "  </thead>\n",
       "  <tbody>\n",
       "    <tr>\n",
       "      <th>0</th>\n",
       "      <td>54865</td>\n",
       "      <td>3</td>\n",
       "      <td>2</td>\n",
       "      <td>12</td>\n",
       "      <td>6</td>\n",
       "      <td>6</td>\n",
       "      <td>0</td>\n",
       "      <td>0</td>\n",
       "      <td>4000000.00</td>\n",
       "      <td>666666.700</td>\n",
       "      <td>...</td>\n",
       "      <td>0</td>\n",
       "      <td>0</td>\n",
       "      <td>0</td>\n",
       "      <td>33</td>\n",
       "      <td>-1</td>\n",
       "      <td>0.0</td>\n",
       "      <td>0.0</td>\n",
       "      <td>0</td>\n",
       "      <td>0.0</td>\n",
       "      <td>BENIGN</td>\n",
       "    </tr>\n",
       "    <tr>\n",
       "      <th>1</th>\n",
       "      <td>55054</td>\n",
       "      <td>109</td>\n",
       "      <td>1</td>\n",
       "      <td>6</td>\n",
       "      <td>6</td>\n",
       "      <td>6</td>\n",
       "      <td>6</td>\n",
       "      <td>6</td>\n",
       "      <td>110091.74</td>\n",
       "      <td>18348.623</td>\n",
       "      <td>...</td>\n",
       "      <td>0</td>\n",
       "      <td>0</td>\n",
       "      <td>0</td>\n",
       "      <td>29</td>\n",
       "      <td>256</td>\n",
       "      <td>0.0</td>\n",
       "      <td>0.0</td>\n",
       "      <td>0</td>\n",
       "      <td>0.0</td>\n",
       "      <td>BENIGN</td>\n",
       "    </tr>\n",
       "    <tr>\n",
       "      <th>2</th>\n",
       "      <td>55055</td>\n",
       "      <td>52</td>\n",
       "      <td>1</td>\n",
       "      <td>6</td>\n",
       "      <td>6</td>\n",
       "      <td>6</td>\n",
       "      <td>6</td>\n",
       "      <td>6</td>\n",
       "      <td>230769.23</td>\n",
       "      <td>38461.540</td>\n",
       "      <td>...</td>\n",
       "      <td>0</td>\n",
       "      <td>0</td>\n",
       "      <td>0</td>\n",
       "      <td>29</td>\n",
       "      <td>256</td>\n",
       "      <td>0.0</td>\n",
       "      <td>0.0</td>\n",
       "      <td>0</td>\n",
       "      <td>0.0</td>\n",
       "      <td>BENIGN</td>\n",
       "    </tr>\n",
       "    <tr>\n",
       "      <th>3</th>\n",
       "      <td>46236</td>\n",
       "      <td>34</td>\n",
       "      <td>1</td>\n",
       "      <td>6</td>\n",
       "      <td>6</td>\n",
       "      <td>6</td>\n",
       "      <td>6</td>\n",
       "      <td>6</td>\n",
       "      <td>352941.20</td>\n",
       "      <td>58823.530</td>\n",
       "      <td>...</td>\n",
       "      <td>0</td>\n",
       "      <td>0</td>\n",
       "      <td>0</td>\n",
       "      <td>31</td>\n",
       "      <td>329</td>\n",
       "      <td>0.0</td>\n",
       "      <td>0.0</td>\n",
       "      <td>0</td>\n",
       "      <td>0.0</td>\n",
       "      <td>BENIGN</td>\n",
       "    </tr>\n",
       "    <tr>\n",
       "      <th>4</th>\n",
       "      <td>54863</td>\n",
       "      <td>3</td>\n",
       "      <td>2</td>\n",
       "      <td>12</td>\n",
       "      <td>6</td>\n",
       "      <td>6</td>\n",
       "      <td>0</td>\n",
       "      <td>0</td>\n",
       "      <td>4000000.00</td>\n",
       "      <td>666666.700</td>\n",
       "      <td>...</td>\n",
       "      <td>0</td>\n",
       "      <td>0</td>\n",
       "      <td>0</td>\n",
       "      <td>32</td>\n",
       "      <td>-1</td>\n",
       "      <td>0.0</td>\n",
       "      <td>0.0</td>\n",
       "      <td>0</td>\n",
       "      <td>0.0</td>\n",
       "      <td>BENIGN</td>\n",
       "    </tr>\n",
       "  </tbody>\n",
       "</table>\n",
       "<p>5 rows × 44 columns</p>\n",
       "</div>\n",
       "      <button class=\"colab-df-convert\" onclick=\"convertToInteractive('df-d5a3dc75-c390-459e-8ccb-44fd0c290703')\"\n",
       "              title=\"Convert this dataframe to an interactive table.\"\n",
       "              style=\"display:none;\">\n",
       "        \n",
       "  <svg xmlns=\"http://www.w3.org/2000/svg\" height=\"24px\"viewBox=\"0 0 24 24\"\n",
       "       width=\"24px\">\n",
       "    <path d=\"M0 0h24v24H0V0z\" fill=\"none\"/>\n",
       "    <path d=\"M18.56 5.44l.94 2.06.94-2.06 2.06-.94-2.06-.94-.94-2.06-.94 2.06-2.06.94zm-11 1L8.5 8.5l.94-2.06 2.06-.94-2.06-.94L8.5 2.5l-.94 2.06-2.06.94zm10 10l.94 2.06.94-2.06 2.06-.94-2.06-.94-.94-2.06-.94 2.06-2.06.94z\"/><path d=\"M17.41 7.96l-1.37-1.37c-.4-.4-.92-.59-1.43-.59-.52 0-1.04.2-1.43.59L10.3 9.45l-7.72 7.72c-.78.78-.78 2.05 0 2.83L4 21.41c.39.39.9.59 1.41.59.51 0 1.02-.2 1.41-.59l7.78-7.78 2.81-2.81c.8-.78.8-2.07 0-2.86zM5.41 20L4 18.59l7.72-7.72 1.47 1.35L5.41 20z\"/>\n",
       "  </svg>\n",
       "      </button>\n",
       "      \n",
       "  <style>\n",
       "    .colab-df-container {\n",
       "      display:flex;\n",
       "      flex-wrap:wrap;\n",
       "      gap: 12px;\n",
       "    }\n",
       "\n",
       "    .colab-df-convert {\n",
       "      background-color: #E8F0FE;\n",
       "      border: none;\n",
       "      border-radius: 50%;\n",
       "      cursor: pointer;\n",
       "      display: none;\n",
       "      fill: #1967D2;\n",
       "      height: 32px;\n",
       "      padding: 0 0 0 0;\n",
       "      width: 32px;\n",
       "    }\n",
       "\n",
       "    .colab-df-convert:hover {\n",
       "      background-color: #E2EBFA;\n",
       "      box-shadow: 0px 1px 2px rgba(60, 64, 67, 0.3), 0px 1px 3px 1px rgba(60, 64, 67, 0.15);\n",
       "      fill: #174EA6;\n",
       "    }\n",
       "\n",
       "    [theme=dark] .colab-df-convert {\n",
       "      background-color: #3B4455;\n",
       "      fill: #D2E3FC;\n",
       "    }\n",
       "\n",
       "    [theme=dark] .colab-df-convert:hover {\n",
       "      background-color: #434B5C;\n",
       "      box-shadow: 0px 1px 3px 1px rgba(0, 0, 0, 0.15);\n",
       "      filter: drop-shadow(0px 1px 2px rgba(0, 0, 0, 0.3));\n",
       "      fill: #FFFFFF;\n",
       "    }\n",
       "  </style>\n",
       "\n",
       "      <script>\n",
       "        const buttonEl =\n",
       "          document.querySelector('#df-d5a3dc75-c390-459e-8ccb-44fd0c290703 button.colab-df-convert');\n",
       "        buttonEl.style.display =\n",
       "          google.colab.kernel.accessAllowed ? 'block' : 'none';\n",
       "\n",
       "        async function convertToInteractive(key) {\n",
       "          const element = document.querySelector('#df-d5a3dc75-c390-459e-8ccb-44fd0c290703');\n",
       "          const dataTable =\n",
       "            await google.colab.kernel.invokeFunction('convertToInteractive',\n",
       "                                                     [key], {});\n",
       "          if (!dataTable) return;\n",
       "\n",
       "          const docLinkHtml = 'Like what you see? Visit the ' +\n",
       "            '<a target=\"_blank\" href=https://colab.research.google.com/notebooks/data_table.ipynb>data table notebook</a>'\n",
       "            + ' to learn more about interactive tables.';\n",
       "          element.innerHTML = '';\n",
       "          dataTable['output_type'] = 'display_data';\n",
       "          await google.colab.output.renderOutput(dataTable, element);\n",
       "          const docLink = document.createElement('div');\n",
       "          docLink.innerHTML = docLinkHtml;\n",
       "          element.appendChild(docLink);\n",
       "        }\n",
       "      </script>\n",
       "    </div>\n",
       "  </div>\n",
       "  "
      ],
      "text/plain": [
       "    Destination Port   Flow Duration   Total Fwd Packets  \\\n",
       "0              54865               3                   2   \n",
       "1              55054             109                   1   \n",
       "2              55055              52                   1   \n",
       "3              46236              34                   1   \n",
       "4              54863               3                   2   \n",
       "\n",
       "   Total Length of Fwd Packets   Fwd Packet Length Max  \\\n",
       "0                           12                       6   \n",
       "1                            6                       6   \n",
       "2                            6                       6   \n",
       "3                            6                       6   \n",
       "4                           12                       6   \n",
       "\n",
       "    Fwd Packet Length Min  Bwd Packet Length Max   Bwd Packet Length Min  \\\n",
       "0                       6                      0                       0   \n",
       "1                       6                      6                       6   \n",
       "2                       6                      6                       6   \n",
       "3                       6                      6                       6   \n",
       "4                       6                      0                       0   \n",
       "\n",
       "   Flow Bytes/s   Flow Packets/s  ...   Bwd Avg Bytes/Bulk  \\\n",
       "0    4000000.00       666666.700  ...                    0   \n",
       "1     110091.74        18348.623  ...                    0   \n",
       "2     230769.23        38461.540  ...                    0   \n",
       "3     352941.20        58823.530  ...                    0   \n",
       "4    4000000.00       666666.700  ...                    0   \n",
       "\n",
       "    Bwd Avg Packets/Bulk  Bwd Avg Bulk Rate  Init_Win_bytes_forward  \\\n",
       "0                      0                  0                      33   \n",
       "1                      0                  0                      29   \n",
       "2                      0                  0                      29   \n",
       "3                      0                  0                      31   \n",
       "4                      0                  0                      32   \n",
       "\n",
       "    Init_Win_bytes_backward  Active Mean   Active Std   Active Max   Idle Std  \\\n",
       "0                        -1          0.0          0.0            0        0.0   \n",
       "1                       256          0.0          0.0            0        0.0   \n",
       "2                       256          0.0          0.0            0        0.0   \n",
       "3                       329          0.0          0.0            0        0.0   \n",
       "4                        -1          0.0          0.0            0        0.0   \n",
       "\n",
       "    Label  \n",
       "0  BENIGN  \n",
       "1  BENIGN  \n",
       "2  BENIGN  \n",
       "3  BENIGN  \n",
       "4  BENIGN  \n",
       "\n",
       "[5 rows x 44 columns]"
      ]
     },
     "execution_count": 36,
     "metadata": {},
     "output_type": "execute_result"
    }
   ],
   "source": [
    "import pyarrow.feather as feather\n",
    "\n",
    "# Read the Feather file into a pandas DataFrame\n",
    "start = time.time()\n",
    "df = feather.read_feather('/content/output.feather')\n",
    "print(\"Time taken to load the data: \", time.time()-start,\" seconds\")\n",
    "# Display the DataFrame\n",
    "df.head()"
   ]
  },
  {
   "cell_type": "code",
   "execution_count": 37,
   "metadata": {
    "colab": {
     "base_uri": "https://localhost:8080/"
    },
    "executionInfo": {
     "elapsed": 4,
     "status": "ok",
     "timestamp": 1683480864370,
     "user": {
      "displayName": "jagdish patel",
      "userId": "16316121973290148661"
     },
     "user_tz": -330
    },
    "id": "lT8SK5FlF_4q",
    "outputId": "fb09205c-d3a6-4ebe-8b76-3c1d083899d2"
   },
   "outputs": [
    {
     "data": {
      "text/plain": [
       "(2520798, 44)"
      ]
     },
     "execution_count": 37,
     "metadata": {},
     "output_type": "execute_result"
    }
   ],
   "source": [
    "df.shape"
   ]
  },
  {
   "cell_type": "code",
   "execution_count": 38,
   "metadata": {
    "executionInfo": {
     "elapsed": 608,
     "status": "ok",
     "timestamp": 1683480868549,
     "user": {
      "displayName": "jagdish patel",
      "userId": "16316121973290148661"
     },
     "user_tz": -330
    },
    "id": "R4NN-dKRGS8V"
   },
   "outputs": [],
   "source": [
    "def correlation(dataset, threshold):\n",
    "    col_corr = set()  \n",
    "    corr_matrix = dataset.corr(numeric_only=True)\n",
    "    for i in range(len(corr_matrix.columns)):\n",
    "        for j in range(i):\n",
    "            if abs(corr_matrix.iloc[i, j]) > threshold: \n",
    "              colname = corr_matrix.columns[i]                  \n",
    "              col_corr.add(colname)\n",
    "    return col_corr"
   ]
  },
  {
   "cell_type": "code",
   "execution_count": 39,
   "metadata": {
    "colab": {
     "base_uri": "https://localhost:8080/"
    },
    "executionInfo": {
     "elapsed": 19130,
     "status": "ok",
     "timestamp": 1683480890185,
     "user": {
      "displayName": "jagdish patel",
      "userId": "16316121973290148661"
     },
     "user_tz": -330
    },
    "id": "CfMuIW0BGX6c",
    "outputId": "ec19c48e-b562-4074-8d34-c8c0c394e138"
   },
   "outputs": [
    {
     "data": {
      "text/plain": [
       "set()"
      ]
     },
     "execution_count": 39,
     "metadata": {},
     "output_type": "execute_result"
    }
   ],
   "source": [
    "corr_features = correlation(df, 0.85)\n",
    "corr_features"
   ]
  },
  {
   "cell_type": "code",
   "execution_count": 40,
   "metadata": {
    "executionInfo": {
     "elapsed": 976,
     "status": "ok",
     "timestamp": 1683480891148,
     "user": {
      "displayName": "jagdish patel",
      "userId": "16316121973290148661"
     },
     "user_tz": -330
    },
    "id": "MEjuXiFPGnXh"
   },
   "outputs": [],
   "source": [
    "df.drop(corr_features,axis=1,inplace=True)"
   ]
  },
  {
   "cell_type": "code",
   "execution_count": 41,
   "metadata": {
    "colab": {
     "base_uri": "https://localhost:8080/"
    },
    "executionInfo": {
     "elapsed": 7,
     "status": "ok",
     "timestamp": 1683480891149,
     "user": {
      "displayName": "jagdish patel",
      "userId": "16316121973290148661"
     },
     "user_tz": -330
    },
    "id": "sCNhJ7i4Lzn3",
    "outputId": "88d06a03-d933-4241-f117-adeae83d1be4"
   },
   "outputs": [
    {
     "data": {
      "text/plain": [
       "(2520798, 44)"
      ]
     },
     "execution_count": 41,
     "metadata": {},
     "output_type": "execute_result"
    }
   ],
   "source": [
    "df.shape"
   ]
  },
  {
   "cell_type": "code",
   "execution_count": 42,
   "metadata": {
    "colab": {
     "base_uri": "https://localhost:8080/"
    },
    "executionInfo": {
     "elapsed": 6,
     "status": "ok",
     "timestamp": 1683480891150,
     "user": {
      "displayName": "jagdish patel",
      "userId": "16316121973290148661"
     },
     "user_tz": -330
    },
    "id": "74rSJfeIL4Qf",
    "outputId": "03e06679-56aa-4881-ed87-0aabc93b3f68"
   },
   "outputs": [
    {
     "name": "stdout",
     "output_type": "stream",
     "text": [
      "[]\n"
     ]
    }
   ],
   "source": [
    "# create a Series with the count of rows in each group\n",
    "label_counts = df[' Label'].value_counts()\n",
    "\n",
    "# create a list of labels that have less than 10,000 rows\n",
    "labels_to_merge = label_counts[label_counts < 10000].index.tolist()\n",
    "print(labels_to_merge)"
   ]
  },
  {
   "cell_type": "code",
   "execution_count": 43,
   "metadata": {
    "executionInfo": {
     "elapsed": 686,
     "status": "ok",
     "timestamp": 1683480891832,
     "user": {
      "displayName": "jagdish patel",
      "userId": "16316121973290148661"
     },
     "user_tz": -330
    },
    "id": "x7f0hkkaL7tv"
   },
   "outputs": [],
   "source": [
    "# create a new label called 'Other' and merge the labels with less than 10,000 rows\n",
    "df[' Label'] = df[' Label'].apply(lambda x: 'Other' if x in labels_to_merge else x)\n",
    "# group the rows by the new 'Label' column\n",
    "grouped_df = df.groupby(' Label')"
   ]
  },
  {
   "cell_type": "code",
   "execution_count": 44,
   "metadata": {
    "colab": {
     "base_uri": "https://localhost:8080/"
    },
    "executionInfo": {
     "elapsed": 513,
     "status": "ok",
     "timestamp": 1683480895766,
     "user": {
      "displayName": "jagdish patel",
      "userId": "16316121973290148661"
     },
     "user_tz": -330
    },
    "id": "TluOlXyML_Fe",
    "outputId": "35ff8fc7-a2cf-48a1-d7c5-5d3e3218c9eb"
   },
   "outputs": [
    {
     "data": {
      "text/plain": [
       "(2520798, 44)"
      ]
     },
     "execution_count": 44,
     "metadata": {},
     "output_type": "execute_result"
    }
   ],
   "source": [
    "df.shape"
   ]
  },
  {
   "cell_type": "code",
   "execution_count": 45,
   "metadata": {
    "colab": {
     "base_uri": "https://localhost:8080/"
    },
    "executionInfo": {
     "elapsed": 670,
     "status": "ok",
     "timestamp": 1683480913544,
     "user": {
      "displayName": "jagdish patel",
      "userId": "16316121973290148661"
     },
     "user_tz": -330
    },
    "id": "1RJEfLwqR_Gg",
    "outputId": "2d1e2961-ae22-497e-eaf5-6e1d9c9e28a6"
   },
   "outputs": [
    {
     "data": {
      "text/plain": [
       "BENIGN           2095057\n",
       "DoS Hulk          172846\n",
       "DDoS              128014\n",
       "PortScan           90694\n",
       "Other              23901\n",
       "DoS GoldenEye      10286\n",
       "Name:  Label, dtype: int64"
      ]
     },
     "execution_count": 45,
     "metadata": {},
     "output_type": "execute_result"
    }
   ],
   "source": [
    "df[' Label'].value_counts()"
   ]
  },
  {
   "cell_type": "code",
   "execution_count": 46,
   "metadata": {
    "executionInfo": {
     "elapsed": 730,
     "status": "ok",
     "timestamp": 1683480930979,
     "user": {
      "displayName": "jagdish patel",
      "userId": "16316121973290148661"
     },
     "user_tz": -330
    },
    "id": "QKkY3UxUSFVe"
   },
   "outputs": [],
   "source": [
    "x = df.drop([' Label'],axis=1)\n",
    "y = df[' Label']"
   ]
  },
  {
   "cell_type": "code",
   "execution_count": 47,
   "metadata": {
    "executionInfo": {
     "elapsed": 28407,
     "status": "ok",
     "timestamp": 1683480976103,
     "user": {
      "displayName": "jagdish patel",
      "userId": "16316121973290148661"
     },
     "user_tz": -330
    },
    "id": "AYXyBkXTSHnB"
   },
   "outputs": [],
   "source": [
    "from imblearn.under_sampling import RandomUnderSampler\n",
    "rus = RandomUnderSampler(random_state=0)\n",
    "rus.fit(x, y)\n",
    "Xn, yn = rus.fit_resample(x, y)\n",
    "# Xn.value_counts()"
   ]
  },
  {
   "cell_type": "code",
   "execution_count": 48,
   "metadata": {
    "colab": {
     "base_uri": "https://localhost:8080/"
    },
    "executionInfo": {
     "elapsed": 4,
     "status": "ok",
     "timestamp": 1683480976104,
     "user": {
      "displayName": "jagdish patel",
      "userId": "16316121973290148661"
     },
     "user_tz": -330
    },
    "id": "DlYS2KYlSMD5",
    "outputId": "3005f874-4c42-4ba6-9604-36e7bc19721e"
   },
   "outputs": [
    {
     "data": {
      "text/plain": [
       "(61716, 43)"
      ]
     },
     "execution_count": 48,
     "metadata": {},
     "output_type": "execute_result"
    }
   ],
   "source": [
    "Xn.shape"
   ]
  },
  {
   "cell_type": "code",
   "execution_count": 49,
   "metadata": {
    "colab": {
     "base_uri": "https://localhost:8080/"
    },
    "executionInfo": {
     "elapsed": 616,
     "status": "ok",
     "timestamp": 1683480983615,
     "user": {
      "displayName": "jagdish patel",
      "userId": "16316121973290148661"
     },
     "user_tz": -330
    },
    "id": "c0afJu9kSRTL",
    "outputId": "cbec181b-9207-475c-b360-4c4795436d66"
   },
   "outputs": [
    {
     "data": {
      "text/plain": [
       "(61716,)"
      ]
     },
     "execution_count": 49,
     "metadata": {},
     "output_type": "execute_result"
    }
   ],
   "source": [
    "yn.shape"
   ]
  },
  {
   "cell_type": "code",
   "execution_count": 50,
   "metadata": {
    "colab": {
     "base_uri": "https://localhost:8080/"
    },
    "executionInfo": {
     "elapsed": 797,
     "status": "ok",
     "timestamp": 1683481005057,
     "user": {
      "displayName": "jagdish patel",
      "userId": "16316121973290148661"
     },
     "user_tz": -330
    },
    "id": "jAtxrJMASUac",
    "outputId": "fd8f49ce-d3c7-4a80-cd43-aedb86c3847e"
   },
   "outputs": [
    {
     "data": {
      "text/plain": [
       "BENIGN           10286\n",
       "DDoS             10286\n",
       "DoS GoldenEye    10286\n",
       "DoS Hulk         10286\n",
       "Other            10286\n",
       "PortScan         10286\n",
       "Name:  Label, dtype: int64"
      ]
     },
     "execution_count": 50,
     "metadata": {},
     "output_type": "execute_result"
    }
   ],
   "source": [
    "yn.value_counts()"
   ]
  },
  {
   "cell_type": "code",
   "execution_count": 52,
   "metadata": {
    "executionInfo": {
     "elapsed": 674,
     "status": "ok",
     "timestamp": 1683481185219,
     "user": {
      "displayName": "jagdish patel",
      "userId": "16316121973290148661"
     },
     "user_tz": -330
    },
    "id": "zw_-owe7SaIp"
   },
   "outputs": [],
   "source": [
    "#z-score   z = (x - mean) / std   \n",
    "# it can make it easier for the algorithm to learn meaningful patterns in the data\n",
    "cols = list(Xn.columns)\n",
    "for col in cols:\n",
    "    Xn[col] = stats.zscore(Xn[col])"
   ]
  },
  {
   "cell_type": "code",
   "execution_count": 53,
   "metadata": {
    "colab": {
     "base_uri": "https://localhost:8080/",
     "height": 351
    },
    "executionInfo": {
     "elapsed": 767,
     "status": "ok",
     "timestamp": 1683481198979,
     "user": {
      "displayName": "jagdish patel",
      "userId": "16316121973290148661"
     },
     "user_tz": -330
    },
    "id": "jHuaV_onTG4b",
    "outputId": "26d884e8-12f7-41cb-d8c0-5e6318352926"
   },
   "outputs": [
    {
     "data": {
      "text/html": [
       "\n",
       "  <div id=\"df-e1c95cf5-5926-4e0e-853c-cc6a8a82fd8c\">\n",
       "    <div class=\"colab-df-container\">\n",
       "      <div>\n",
       "<style scoped>\n",
       "    .dataframe tbody tr th:only-of-type {\n",
       "        vertical-align: middle;\n",
       "    }\n",
       "\n",
       "    .dataframe tbody tr th {\n",
       "        vertical-align: top;\n",
       "    }\n",
       "\n",
       "    .dataframe thead th {\n",
       "        text-align: right;\n",
       "    }\n",
       "</style>\n",
       "<table border=\"1\" class=\"dataframe\">\n",
       "  <thead>\n",
       "    <tr style=\"text-align: right;\">\n",
       "      <th></th>\n",
       "      <th>Destination Port</th>\n",
       "      <th>Flow Duration</th>\n",
       "      <th>Total Fwd Packets</th>\n",
       "      <th>Total Length of Fwd Packets</th>\n",
       "      <th>Fwd Packet Length Max</th>\n",
       "      <th>Fwd Packet Length Min</th>\n",
       "      <th>Bwd Packet Length Max</th>\n",
       "      <th>Bwd Packet Length Min</th>\n",
       "      <th>Flow Bytes/s</th>\n",
       "      <th>Flow Packets/s</th>\n",
       "      <th>...</th>\n",
       "      <th>Fwd Avg Bulk Rate</th>\n",
       "      <th>Bwd Avg Bytes/Bulk</th>\n",
       "      <th>Bwd Avg Packets/Bulk</th>\n",
       "      <th>Bwd Avg Bulk Rate</th>\n",
       "      <th>Init_Win_bytes_forward</th>\n",
       "      <th>Init_Win_bytes_backward</th>\n",
       "      <th>Active Mean</th>\n",
       "      <th>Active Std</th>\n",
       "      <th>Active Max</th>\n",
       "      <th>Idle Std</th>\n",
       "    </tr>\n",
       "  </thead>\n",
       "  <tbody>\n",
       "    <tr>\n",
       "      <th>0</th>\n",
       "      <td>-0.297014</td>\n",
       "      <td>-0.679777</td>\n",
       "      <td>-0.044940</td>\n",
       "      <td>-0.040850</td>\n",
       "      <td>-0.317990</td>\n",
       "      <td>0.490016</td>\n",
       "      <td>-0.713935</td>\n",
       "      <td>2.190765</td>\n",
       "      <td>-0.038518</td>\n",
       "      <td>-0.190288</td>\n",
       "      <td>...</td>\n",
       "      <td>NaN</td>\n",
       "      <td>NaN</td>\n",
       "      <td>NaN</td>\n",
       "      <td>NaN</td>\n",
       "      <td>-0.848314</td>\n",
       "      <td>-0.194997</td>\n",
       "      <td>-0.227431</td>\n",
       "      <td>-0.131538</td>\n",
       "      <td>-0.233081</td>\n",
       "      <td>-0.200218</td>\n",
       "    </tr>\n",
       "    <tr>\n",
       "      <th>1</th>\n",
       "      <td>4.852138</td>\n",
       "      <td>-0.681388</td>\n",
       "      <td>-0.109562</td>\n",
       "      <td>-0.054611</td>\n",
       "      <td>-0.379522</td>\n",
       "      <td>-0.126985</td>\n",
       "      <td>-0.741997</td>\n",
       "      <td>-0.254225</td>\n",
       "      <td>-0.039055</td>\n",
       "      <td>0.008263</td>\n",
       "      <td>...</td>\n",
       "      <td>NaN</td>\n",
       "      <td>NaN</td>\n",
       "      <td>NaN</td>\n",
       "      <td>NaN</td>\n",
       "      <td>-0.784403</td>\n",
       "      <td>-0.153281</td>\n",
       "      <td>-0.227431</td>\n",
       "      <td>-0.131538</td>\n",
       "      <td>-0.233081</td>\n",
       "      <td>-0.200218</td>\n",
       "    </tr>\n",
       "    <tr>\n",
       "      <th>2</th>\n",
       "      <td>-0.294582</td>\n",
       "      <td>2.295346</td>\n",
       "      <td>0.213547</td>\n",
       "      <td>-0.002414</td>\n",
       "      <td>0.375840</td>\n",
       "      <td>-0.126985</td>\n",
       "      <td>-0.639404</td>\n",
       "      <td>-0.254225</td>\n",
       "      <td>-0.039054</td>\n",
       "      <td>-0.191104</td>\n",
       "      <td>...</td>\n",
       "      <td>NaN</td>\n",
       "      <td>NaN</td>\n",
       "      <td>NaN</td>\n",
       "      <td>NaN</td>\n",
       "      <td>-0.270364</td>\n",
       "      <td>0.664176</td>\n",
       "      <td>-0.189442</td>\n",
       "      <td>-0.085769</td>\n",
       "      <td>-0.139767</td>\n",
       "      <td>-0.198220</td>\n",
       "    </tr>\n",
       "    <tr>\n",
       "      <th>3</th>\n",
       "      <td>-0.261889</td>\n",
       "      <td>-0.535558</td>\n",
       "      <td>0.041222</td>\n",
       "      <td>-0.007515</td>\n",
       "      <td>0.078787</td>\n",
       "      <td>-0.126985</td>\n",
       "      <td>-0.301450</td>\n",
       "      <td>-0.254225</td>\n",
       "      <td>-0.038974</td>\n",
       "      <td>-0.191085</td>\n",
       "      <td>...</td>\n",
       "      <td>NaN</td>\n",
       "      <td>NaN</td>\n",
       "      <td>NaN</td>\n",
       "      <td>NaN</td>\n",
       "      <td>-0.270364</td>\n",
       "      <td>-0.173232</td>\n",
       "      <td>-0.007060</td>\n",
       "      <td>-0.131538</td>\n",
       "      <td>-0.054383</td>\n",
       "      <td>-0.200218</td>\n",
       "    </tr>\n",
       "    <tr>\n",
       "      <th>4</th>\n",
       "      <td>-0.297014</td>\n",
       "      <td>-0.680783</td>\n",
       "      <td>-0.109562</td>\n",
       "      <td>-0.048917</td>\n",
       "      <td>-0.277675</td>\n",
       "      <td>0.894258</td>\n",
       "      <td>-0.703374</td>\n",
       "      <td>3.110923</td>\n",
       "      <td>-0.038223</td>\n",
       "      <td>-0.190381</td>\n",
       "      <td>...</td>\n",
       "      <td>NaN</td>\n",
       "      <td>NaN</td>\n",
       "      <td>NaN</td>\n",
       "      <td>NaN</td>\n",
       "      <td>-0.848314</td>\n",
       "      <td>-0.194997</td>\n",
       "      <td>-0.227431</td>\n",
       "      <td>-0.131538</td>\n",
       "      <td>-0.233081</td>\n",
       "      <td>-0.200218</td>\n",
       "    </tr>\n",
       "  </tbody>\n",
       "</table>\n",
       "<p>5 rows × 43 columns</p>\n",
       "</div>\n",
       "      <button class=\"colab-df-convert\" onclick=\"convertToInteractive('df-e1c95cf5-5926-4e0e-853c-cc6a8a82fd8c')\"\n",
       "              title=\"Convert this dataframe to an interactive table.\"\n",
       "              style=\"display:none;\">\n",
       "        \n",
       "  <svg xmlns=\"http://www.w3.org/2000/svg\" height=\"24px\"viewBox=\"0 0 24 24\"\n",
       "       width=\"24px\">\n",
       "    <path d=\"M0 0h24v24H0V0z\" fill=\"none\"/>\n",
       "    <path d=\"M18.56 5.44l.94 2.06.94-2.06 2.06-.94-2.06-.94-.94-2.06-.94 2.06-2.06.94zm-11 1L8.5 8.5l.94-2.06 2.06-.94-2.06-.94L8.5 2.5l-.94 2.06-2.06.94zm10 10l.94 2.06.94-2.06 2.06-.94-2.06-.94-.94-2.06-.94 2.06-2.06.94z\"/><path d=\"M17.41 7.96l-1.37-1.37c-.4-.4-.92-.59-1.43-.59-.52 0-1.04.2-1.43.59L10.3 9.45l-7.72 7.72c-.78.78-.78 2.05 0 2.83L4 21.41c.39.39.9.59 1.41.59.51 0 1.02-.2 1.41-.59l7.78-7.78 2.81-2.81c.8-.78.8-2.07 0-2.86zM5.41 20L4 18.59l7.72-7.72 1.47 1.35L5.41 20z\"/>\n",
       "  </svg>\n",
       "      </button>\n",
       "      \n",
       "  <style>\n",
       "    .colab-df-container {\n",
       "      display:flex;\n",
       "      flex-wrap:wrap;\n",
       "      gap: 12px;\n",
       "    }\n",
       "\n",
       "    .colab-df-convert {\n",
       "      background-color: #E8F0FE;\n",
       "      border: none;\n",
       "      border-radius: 50%;\n",
       "      cursor: pointer;\n",
       "      display: none;\n",
       "      fill: #1967D2;\n",
       "      height: 32px;\n",
       "      padding: 0 0 0 0;\n",
       "      width: 32px;\n",
       "    }\n",
       "\n",
       "    .colab-df-convert:hover {\n",
       "      background-color: #E2EBFA;\n",
       "      box-shadow: 0px 1px 2px rgba(60, 64, 67, 0.3), 0px 1px 3px 1px rgba(60, 64, 67, 0.15);\n",
       "      fill: #174EA6;\n",
       "    }\n",
       "\n",
       "    [theme=dark] .colab-df-convert {\n",
       "      background-color: #3B4455;\n",
       "      fill: #D2E3FC;\n",
       "    }\n",
       "\n",
       "    [theme=dark] .colab-df-convert:hover {\n",
       "      background-color: #434B5C;\n",
       "      box-shadow: 0px 1px 3px 1px rgba(0, 0, 0, 0.15);\n",
       "      filter: drop-shadow(0px 1px 2px rgba(0, 0, 0, 0.3));\n",
       "      fill: #FFFFFF;\n",
       "    }\n",
       "  </style>\n",
       "\n",
       "      <script>\n",
       "        const buttonEl =\n",
       "          document.querySelector('#df-e1c95cf5-5926-4e0e-853c-cc6a8a82fd8c button.colab-df-convert');\n",
       "        buttonEl.style.display =\n",
       "          google.colab.kernel.accessAllowed ? 'block' : 'none';\n",
       "\n",
       "        async function convertToInteractive(key) {\n",
       "          const element = document.querySelector('#df-e1c95cf5-5926-4e0e-853c-cc6a8a82fd8c');\n",
       "          const dataTable =\n",
       "            await google.colab.kernel.invokeFunction('convertToInteractive',\n",
       "                                                     [key], {});\n",
       "          if (!dataTable) return;\n",
       "\n",
       "          const docLinkHtml = 'Like what you see? Visit the ' +\n",
       "            '<a target=\"_blank\" href=https://colab.research.google.com/notebooks/data_table.ipynb>data table notebook</a>'\n",
       "            + ' to learn more about interactive tables.';\n",
       "          element.innerHTML = '';\n",
       "          dataTable['output_type'] = 'display_data';\n",
       "          await google.colab.output.renderOutput(dataTable, element);\n",
       "          const docLink = document.createElement('div');\n",
       "          docLink.innerHTML = docLinkHtml;\n",
       "          element.appendChild(docLink);\n",
       "        }\n",
       "      </script>\n",
       "    </div>\n",
       "  </div>\n",
       "  "
      ],
      "text/plain": [
       "    Destination Port   Flow Duration   Total Fwd Packets  \\\n",
       "0          -0.297014       -0.679777           -0.044940   \n",
       "1           4.852138       -0.681388           -0.109562   \n",
       "2          -0.294582        2.295346            0.213547   \n",
       "3          -0.261889       -0.535558            0.041222   \n",
       "4          -0.297014       -0.680783           -0.109562   \n",
       "\n",
       "   Total Length of Fwd Packets   Fwd Packet Length Max  \\\n",
       "0                    -0.040850               -0.317990   \n",
       "1                    -0.054611               -0.379522   \n",
       "2                    -0.002414                0.375840   \n",
       "3                    -0.007515                0.078787   \n",
       "4                    -0.048917               -0.277675   \n",
       "\n",
       "    Fwd Packet Length Min  Bwd Packet Length Max   Bwd Packet Length Min  \\\n",
       "0                0.490016              -0.713935                2.190765   \n",
       "1               -0.126985              -0.741997               -0.254225   \n",
       "2               -0.126985              -0.639404               -0.254225   \n",
       "3               -0.126985              -0.301450               -0.254225   \n",
       "4                0.894258              -0.703374                3.110923   \n",
       "\n",
       "   Flow Bytes/s   Flow Packets/s  ...   Fwd Avg Bulk Rate  \\\n",
       "0     -0.038518        -0.190288  ...                 NaN   \n",
       "1     -0.039055         0.008263  ...                 NaN   \n",
       "2     -0.039054        -0.191104  ...                 NaN   \n",
       "3     -0.038974        -0.191085  ...                 NaN   \n",
       "4     -0.038223        -0.190381  ...                 NaN   \n",
       "\n",
       "    Bwd Avg Bytes/Bulk   Bwd Avg Packets/Bulk  Bwd Avg Bulk Rate  \\\n",
       "0                  NaN                    NaN                NaN   \n",
       "1                  NaN                    NaN                NaN   \n",
       "2                  NaN                    NaN                NaN   \n",
       "3                  NaN                    NaN                NaN   \n",
       "4                  NaN                    NaN                NaN   \n",
       "\n",
       "   Init_Win_bytes_forward   Init_Win_bytes_backward  Active Mean   Active Std  \\\n",
       "0               -0.848314                 -0.194997    -0.227431    -0.131538   \n",
       "1               -0.784403                 -0.153281    -0.227431    -0.131538   \n",
       "2               -0.270364                  0.664176    -0.189442    -0.085769   \n",
       "3               -0.270364                 -0.173232    -0.007060    -0.131538   \n",
       "4               -0.848314                 -0.194997    -0.227431    -0.131538   \n",
       "\n",
       "    Active Max   Idle Std  \n",
       "0    -0.233081  -0.200218  \n",
       "1    -0.233081  -0.200218  \n",
       "2    -0.139767  -0.198220  \n",
       "3    -0.054383  -0.200218  \n",
       "4    -0.233081  -0.200218  \n",
       "\n",
       "[5 rows x 43 columns]"
      ]
     },
     "execution_count": 53,
     "metadata": {},
     "output_type": "execute_result"
    }
   ],
   "source": [
    "Xn.head()"
   ]
  },
  {
   "cell_type": "code",
   "execution_count": 54,
   "metadata": {
    "executionInfo": {
     "elapsed": 643,
     "status": "ok",
     "timestamp": 1683481219137,
     "user": {
      "displayName": "jagdish patel",
      "userId": "16316121973290148661"
     },
     "user_tz": -330
    },
    "id": "UFIskZvtTLqs"
   },
   "outputs": [],
   "source": [
    "from sklearn.model_selection import  train_test_split\n",
    "X_train, X_test, Y_train, Y_test = train_test_split(Xn,yn,test_size=0.20,random_state=0)"
   ]
  },
  {
   "cell_type": "code",
   "execution_count": 55,
   "metadata": {
    "colab": {
     "base_uri": "https://localhost:8080/"
    },
    "executionInfo": {
     "elapsed": 598,
     "status": "ok",
     "timestamp": 1683481251458,
     "user": {
      "displayName": "jagdish patel",
      "userId": "16316121973290148661"
     },
     "user_tz": -330
    },
    "id": "J40v80mhTSNL",
    "outputId": "78a2179b-6432-47da-cbea-640e59573e4a"
   },
   "outputs": [
    {
     "name": "stdout",
     "output_type": "stream",
     "text": [
      "True\n",
      "False\n"
     ]
    }
   ],
   "source": [
    "print(np.any(np.isnan(X_train)))\n",
    "print(np.all(np.isfinite(X_train)))"
   ]
  },
  {
   "cell_type": "code",
   "execution_count": 56,
   "metadata": {
    "executionInfo": {
     "elapsed": 708,
     "status": "ok",
     "timestamp": 1683481269135,
     "user": {
      "displayName": "jagdish patel",
      "userId": "16316121973290148661"
     },
     "user_tz": -330
    },
    "id": "eXSUoBEUTYC3"
   },
   "outputs": [],
   "source": [
    "from sklearn.impute import SimpleImputer\n",
    "from sklearn.preprocessing import StandardScaler\n",
    "\n",
    "# Create an instance of SimpleImputer with 'mean' strategy to replace NaN values\n",
    "imputer = SimpleImputer(strategy='mean')\n",
    "\n",
    "# Fit the imputer to X_train and transform X_train and X_test with it\n",
    "X_train = imputer.fit_transform(X_train)\n",
    "X_test = imputer.transform(X_test)\n",
    "\n",
    "# Apply StandardScaler to X_train and X_test\n",
    "scaler = StandardScaler()\n",
    "X_train = scaler.fit_transform(X_train)\n",
    "X_test = scaler.transform(X_test)"
   ]
  },
  {
   "cell_type": "code",
   "execution_count": 74,
   "metadata": {
    "colab": {
     "base_uri": "https://localhost:8080/"
    },
    "executionInfo": {
     "elapsed": 1064,
     "status": "ok",
     "timestamp": 1683482196690,
     "user": {
      "displayName": "jagdish patel",
      "userId": "16316121973290148661"
     },
     "user_tz": -330
    },
    "id": "RM_f2M6nTZpr",
    "outputId": "6a8f5d6e-c673-4c6c-e02c-323a53658abf"
   },
   "outputs": [
    {
     "name": "stdout",
     "output_type": "stream",
     "text": [
      "Time taken to train model:  0.26372313499450684  seconds\n"
     ]
    }
   ],
   "source": [
    "from sklearn.neighbors import KNeighborsClassifier\n",
    "# model training USING KNN (suppor vector machine)\n",
    "start = time.time()\n",
    "k = 10 # number of nearest neighbors to consider\n",
    "knn = KNeighborsClassifier(n_neighbors=k)\n",
    "knn.fit(X_train, Y_train)\n",
    "print(\"Time taken to train model: \", time.time()-start,\" seconds\")"
   ]
  },
  {
   "cell_type": "code",
   "execution_count": 75,
   "metadata": {
    "colab": {
     "base_uri": "https://localhost:8080/"
    },
    "executionInfo": {
     "elapsed": 39705,
     "status": "ok",
     "timestamp": 1683482240614,
     "user": {
      "displayName": "jagdish patel",
      "userId": "16316121973290148661"
     },
     "user_tz": -330
    },
    "id": "i95JAqpDUbq6",
    "outputId": "3b0e475b-166d-4bca-f0fe-5081734217d0"
   },
   "outputs": [
    {
     "name": "stdout",
     "output_type": "stream",
     "text": [
      "Time taken to for performance matric calculation:  38.641499042510986  seconds\n"
     ]
    }
   ],
   "source": [
    "from sklearn.model_selection import cross_val_score\n",
    "from sklearn import metrics\n",
    "\n",
    "\n",
    "# performance metrics calculation of our model over training data set\n",
    "start = time.time()\n",
    "Predict_X =  knn.predict(X_train)\n",
    "scores = cross_val_score(knn, X_train, Y_train, cv=7)\n",
    "accuracy = metrics.accuracy_score(Y_train,Predict_X)\n",
    "confusion_matrix = metrics.confusion_matrix(Y_train, Predict_X)\n",
    "classification = metrics.classification_report(Y_train, Predict_X)\n",
    "print(\"Time taken to for performance matric calculation: \", time.time()-start,\" seconds\")"
   ]
  },
  {
   "cell_type": "code",
   "execution_count": 76,
   "metadata": {
    "colab": {
     "base_uri": "https://localhost:8080/"
    },
    "executionInfo": {
     "elapsed": 17,
     "status": "ok",
     "timestamp": 1683482240615,
     "user": {
      "displayName": "jagdish patel",
      "userId": "16316121973290148661"
     },
     "user_tz": -330
    },
    "id": "jP-0kYN4UxIp",
    "outputId": "e2db0a35-2e94-485b-9d4b-884a43398610"
   },
   "outputs": [
    {
     "name": "stdout",
     "output_type": "stream",
     "text": [
      "\n",
      "--------------------------- Results --------------------------------\n",
      "\n",
      "Cross Validation Mean Score:\n",
      " 0.9862877407769899\n",
      "\n",
      "Model Accuracy:\n",
      " 0.9882321963866159\n",
      "\n",
      "Confusion matrix:\n",
      " [[7855    2   56   23  161  135]\n",
      " [  10 8209    5    3    0    0]\n",
      " [   3    0 8264    8    7    0]\n",
      " [  29    9   22 8213    0    2]\n",
      " [  58    0   18    3 8151    7]\n",
      " [   4    1    1    7    7 8099]]\n",
      "\n",
      "Classification report:\n",
      "                precision    recall  f1-score   support\n",
      "\n",
      "       BENIGN       0.99      0.95      0.97      8232\n",
      "         DDoS       1.00      1.00      1.00      8227\n",
      "DoS GoldenEye       0.99      1.00      0.99      8282\n",
      "     DoS Hulk       0.99      0.99      0.99      8275\n",
      "        Other       0.98      0.99      0.98      8237\n",
      "     PortScan       0.98      1.00      0.99      8119\n",
      "\n",
      "     accuracy                           0.99     49372\n",
      "    macro avg       0.99      0.99      0.99     49372\n",
      " weighted avg       0.99      0.99      0.99     49372\n",
      "\n",
      "\n"
     ]
    }
   ],
   "source": [
    "print()\n",
    "print('--------------------------- Results --------------------------------')\n",
    "print()\n",
    "print (\"Cross Validation Mean Score:\" \"\\n\", scores.mean())\n",
    "print()\n",
    "print (\"Model Accuracy:\" \"\\n\", accuracy)\n",
    "print()\n",
    "print(\"Confusion matrix:\" \"\\n\", confusion_matrix)\n",
    "print()\n",
    "print(\"Classification report:\" \"\\n\", classification) \n",
    "print()"
   ]
  },
  {
   "cell_type": "code",
   "execution_count": 77,
   "metadata": {
    "executionInfo": {
     "elapsed": 16,
     "status": "ok",
     "timestamp": 1683482240617,
     "user": {
      "displayName": "jagdish patel",
      "userId": "16316121973290148661"
     },
     "user_tz": -330
    },
    "id": "sDsOIq-LU3MN"
   },
   "outputs": [],
   "source": [
    "def plot_confusion_matrix(cm,title,cmap=None,target=None,normalize=False):\n",
    "\n",
    "    import itertools\n",
    "    accuracy = np.trace(cm) / float(np.sum(cm))\n",
    "    misclass = 1 - accuracy\n",
    "\n",
    "    if cmap is None:\n",
    "        cmap = plt.get_cmap('viridis')\n",
    "    plt.figure(figsize=(20, 20))\n",
    "    plt.imshow(cm, interpolation='nearest', cmap=cmap)\n",
    "    plt.title(title)\n",
    "    plt.colorbar()\n",
    "\n",
    "    if target is not None:\n",
    "        ticks = np.arange(len(target))\n",
    "        plt.xticks(ticks, target, rotation=45)\n",
    "        plt.yticks(ticks, target)\n",
    "    if normalize:\n",
    "        cm = cm.astype('float') / cm.sum(axis=1)[:, np.newaxis]\n",
    "\n",
    "\n",
    "    thresh = cm.max() / 1.5 if normalize else cm.max() / 2\n",
    "    for i, j in itertools.product(range(cm.shape[0]), range(cm.shape[1])):\n",
    "        if normalize:\n",
    "            plt.text(j, i, \"{:0.4f}\".format(cm[i, j]),\n",
    "                     horizontalalignment=\"center\",\n",
    "                     color=\"black\" if cm[i, j] > thresh else \"white\")\n",
    "        else:\n",
    "            plt.text(j, i, \"{:,}\".format(cm[i, j]),\n",
    "                     horizontalalignment=\"center\",\n",
    "                     color=\"black\" if cm[i, j] > thresh else \"white\")\n",
    "    plt.grid(False)\n",
    "    plt.tight_layout()\n",
    "    plt.ylabel('True label')\n",
    "    plt.xlabel('Predicted label\\naccuracy={:0.4f}; misclass={:0.4f}'.format(accuracy, misclass))\n",
    "    plt.show()\n",
    "    plt.savefig(title, bbox_inches='tight', dpi=300)"
   ]
  },
  {
   "cell_type": "code",
   "execution_count": 78,
   "metadata": {
    "colab": {
     "base_uri": "https://localhost:8080/",
     "height": 1000
    },
    "executionInfo": {
     "elapsed": 1208,
     "status": "ok",
     "timestamp": 1683482241810,
     "user": {
      "displayName": "jagdish patel",
      "userId": "16316121973290148661"
     },
     "user_tz": -330
    },
    "id": "Jhzir2yyU_gZ",
    "outputId": "228b9cc4-ca3e-4e45-b0c6-1bc273409713"
   },
   "outputs": [
    {
     "data": {
      "image/png": "[encoded data removed]",
      "text/plain": [
       "<Figure size 2000x2000 with 2 Axes>"
      ]
     },
     "metadata": {},
     "output_type": "display_data"
    },
    {
     "data": {
      "text/plain": [
       "<Figure size 640x480 with 0 Axes>"
      ]
     },
     "metadata": {},
     "output_type": "display_data"
    }
   ],
   "source": [
    "plot_confusion_matrix(cm=confusion_matrix ,title= 'KNN Classifire')"
   ]
  },
  {
   "cell_type": "code",
   "execution_count": 79,
   "metadata": {
    "colab": {
     "base_uri": "https://localhost:8080/"
    },
    "executionInfo": {
     "elapsed": 6914,
     "status": "ok",
     "timestamp": 1683482248719,
     "user": {
      "displayName": "jagdish patel",
      "userId": "16316121973290148661"
     },
     "user_tz": -330
    },
    "id": "Yxw2LDXiVR0L",
    "outputId": "de37fcdf-7ef8-4943-adff-ff71de385a81"
   },
   "outputs": [
    {
     "name": "stdout",
     "output_type": "stream",
     "text": [
      "Time taken to for performance matric calculation:  6.714439392089844  seconds\n"
     ]
    }
   ],
   "source": [
    "# performance metrics calculation of our model over test data set\n",
    "start = time.time()\n",
    "Predict_X =  knn.predict(X_test)\n",
    "scores = cross_val_score(knn, X_test, Y_test, cv=7)\n",
    "accuracy = metrics.accuracy_score(Y_test,Predict_X)\n",
    "confusion_matrix = metrics.confusion_matrix(Y_test, Predict_X)\n",
    "classification = metrics.classification_report(Y_test, Predict_X)\n",
    "print(\"Time taken to for performance matric calculation: \", time.time()-start,\" seconds\")"
   ]
  },
  {
   "cell_type": "code",
   "execution_count": 80,
   "metadata": {
    "colab": {
     "base_uri": "https://localhost:8080/"
    },
    "executionInfo": {
     "elapsed": 17,
     "status": "ok",
     "timestamp": 1683482248719,
     "user": {
      "displayName": "jagdish patel",
      "userId": "16316121973290148661"
     },
     "user_tz": -330
    },
    "id": "Eyp4qxRyVa_M",
    "outputId": "4de6c35b-9a90-4176-ee65-9c3970bc1787"
   },
   "outputs": [
    {
     "name": "stdout",
     "output_type": "stream",
     "text": [
      "\n",
      "--------------------------- Results --------------------------------\n",
      "\n",
      "Cross Validation Mean Score:\n",
      " 0.9797473752756377\n",
      "\n",
      "Model Accuracy:\n",
      " 0.9883344134802333\n",
      "\n",
      "Confusion matrix:\n",
      " [[1959    0    9    7   49   30]\n",
      " [   0 2058    0    1    0    0]\n",
      " [   0    0 2002    1    1    0]\n",
      " [   9    0    6 1996    0    0]\n",
      " [  21    0    7    0 2020    1]\n",
      " [   1    0    0    0    1 2165]]\n",
      "\n",
      "Classification report:\n",
      "                precision    recall  f1-score   support\n",
      "\n",
      "       BENIGN       0.98      0.95      0.97      2054\n",
      "         DDoS       1.00      1.00      1.00      2059\n",
      "DoS GoldenEye       0.99      1.00      0.99      2004\n",
      "     DoS Hulk       1.00      0.99      0.99      2011\n",
      "        Other       0.98      0.99      0.98      2049\n",
      "     PortScan       0.99      1.00      0.99      2167\n",
      "\n",
      "     accuracy                           0.99     12344\n",
      "    macro avg       0.99      0.99      0.99     12344\n",
      " weighted avg       0.99      0.99      0.99     12344\n",
      "\n",
      "\n"
     ]
    }
   ],
   "source": [
    "print()\n",
    "print('--------------------------- Results --------------------------------')\n",
    "print()\n",
    "print (\"Cross Validation Mean Score:\" \"\\n\", scores.mean())\n",
    "print()\n",
    "print (\"Model Accuracy:\" \"\\n\", accuracy)\n",
    "print()\n",
    "print(\"Confusion matrix:\" \"\\n\", confusion_matrix)\n",
    "print()\n",
    "print(\"Classification report:\" \"\\n\", classification) \n",
    "print()"
   ]
  },
  {
   "cell_type": "code",
   "execution_count": 81,
   "metadata": {
    "colab": {
     "base_uri": "https://localhost:8080/",
     "height": 1000
    },
    "executionInfo": {
     "elapsed": 1079,
     "status": "ok",
     "timestamp": 1683482249783,
     "user": {
      "displayName": "jagdish patel",
      "userId": "16316121973290148661"
     },
     "user_tz": -330
    },
    "id": "qO7x5hofVjR-",
    "outputId": "75224bd4-f5d2-4edc-ce29-62a7f15bfad4"
   },
   "outputs": [
    {
     "data": {
      "image/png": "[encoded data removed]",
      "text/plain": [
       "<Figure size 2000x2000 with 2 Axes>"
      ]
     },
     "metadata": {},
     "output_type": "display_data"
    },
    {
     "data": {
      "text/plain": [
       "<Figure size 640x480 with 0 Axes>"
      ]
     },
     "metadata": {},
     "output_type": "display_data"
    }
   ],
   "source": [
    "plot_confusion_matrix(cm=confusion_matrix ,title= 'KNN Classifire')"
   ]
  }
 ],
 "metadata": {
  "colab": {
   "authorship_tag": "ABX9TyN9PXl3aqVqbQ0jHId/lFrb",
   "provenance": []
  },
  "kernelspec": {
   "display_name": "Python 3 (ipykernel)",
   "language": "python",
   "name": "python3"
  },
  "language_info": {
   "codemirror_mode": {
    "name": "ipython",
    "version": 3
   },
   "file_extension": ".py",
   "mimetype": "text/x-python",
   "name": "python",
   "nbconvert_exporter": "python",
   "pygments_lexer": "ipython3",
   "version": "3.10.0"
  }
 },
 "nbformat": 4,
 "nbformat_minor": 1
}
