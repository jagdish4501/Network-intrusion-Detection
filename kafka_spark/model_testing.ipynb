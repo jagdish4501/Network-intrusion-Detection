{
 "cells": [
  {
   "cell_type": "code",
   "execution_count": 1,
   "metadata": {
    "id": "orlnO4pvFaA6"
   },
   "outputs": [],
   "source": [
    "import numpy as np\n",
    "import pandas as pd\n",
    "import time"
   ]
  },
  {
   "cell_type": "code",
   "execution_count": 3,
   "metadata": {
    "id": "hrt6hztjF1x_"
   },
   "outputs": [],
   "source": [
    "import joblib\n",
    "Random_Forest = joblib.load('./Random_forest_cicids.pkl')"
   ]
  },
  {
   "cell_type": "code",
   "execution_count": 4,
   "metadata": {
    "colab": {
     "base_uri": "https://localhost:8080/"
    },
    "id": "Qh7ffXSkFHWo",
    "outputId": "43610c23-25da-4a25-e2b2-34c5aad6186c"
   },
   "outputs": [
    {
     "name": "stdout",
     "output_type": "stream",
     "text": [
      "Time Taken : 1.6879932880401611 second\n"
     ]
    }
   ],
   "source": [
    "start = time.time()\n",
    "df=pd.read_csv('./data_for_kafka_suffled.csv')\n",
    "print(\"Time Taken :\",time.time()-start,\"second\")"
   ]
  },
  {
   "cell_type": "code",
   "execution_count": 6,
   "metadata": {
    "colab": {
     "base_uri": "https://localhost:8080/"
    },
    "id": "Pv3FPcQKF7Zq",
    "outputId": "1c405915-5cc6-49cc-dd99-c8a515f52b04"
   },
   "outputs": [
    {
     "data": {
      "text/plain": [
       "(516435, 44)"
      ]
     },
     "execution_count": 6,
     "metadata": {},
     "output_type": "execute_result"
    }
   ],
   "source": [
    "Xn = df.drop([' Label'],axis=1)\n",
    "Yn = df[' Label']\n",
    "df.shape"
   ]
  },
  {
   "cell_type": "code",
   "execution_count": 12,
   "metadata": {},
   "outputs": [
    {
     "name": "stdout",
     "output_type": "stream",
     "text": [
      "    Destination Port   Flow Duration   Total Fwd Packets  \\\n",
      "1              55054             109                   1   \n",
      "\n",
      "   Total Length of Fwd Packets   Fwd Packet Length Max  \\\n",
      "1                            6                       6   \n",
      "\n",
      "    Fwd Packet Length Min  Bwd Packet Length Max   Bwd Packet Length Min  \\\n",
      "1                       6                      6                       6   \n",
      "\n",
      "   Flow Bytes/s   Flow Packets/s  ...   Bwd Avg Bytes/Bulk  \\\n",
      "1     110091.74        18348.623  ...                    0   \n",
      "\n",
      "    Bwd Avg Packets/Bulk  Bwd Avg Bulk Rate  Init_Win_bytes_forward  \\\n",
      "1                      0                  0                      29   \n",
      "\n",
      "    Init_Win_bytes_backward  Active Mean   Active Std   Active Max   Idle Std  \\\n",
      "1                       256          0.0          0.0            0        0.0   \n",
      "\n",
      "    Label  \n",
      "1  BENIGN  \n",
      "\n",
      "[1 rows x 44 columns]\n"
     ]
    }
   ],
   "source": [
    "for i, (_, row) in enumerate(df.iterrows()):\n",
    "    if i != 0:\n",
    "        single_row_df = pd.DataFrame([row], columns=df.columns)\n",
    "        print(single_row_df)"
   ]
  },
  {
   "cell_type": "code",
   "execution_count": 5,
   "metadata": {
    "colab": {
     "base_uri": "https://localhost:8080/"
    },
    "id": "LUHnrrXJHIpL",
    "outputId": "1ad6ccae-d82f-4e60-820c-9b746a98483c"
   },
   "outputs": [
    {
     "name": "stdout",
     "output_type": "stream",
     "text": [
      "['BENIGN' 'BENIGN' 'BENIGN' ... 'BENIGN' 'BENIGN' 'BENIGN']\n"
     ]
    }
   ],
   "source": [
    "Predict_X =  Random_Forest.predict(Xn)\n",
    "print(Predict_X)"
   ]
  },
  {
   "cell_type": "code",
   "execution_count": 6,
   "metadata": {
    "colab": {
     "base_uri": "https://localhost:8080/"
    },
    "id": "aoa8gVQmeRFx",
    "outputId": "5c474bf7-2d45-4c52-ae10-32d45da84f47"
   },
   "outputs": [
    {
     "name": "stdout",
     "output_type": "stream",
     "text": [
      "Accurecy : 0.996242\n",
      "(1000000, 43) (1000000,) (1000000,)\n"
     ]
    }
   ],
   "source": [
    "from sklearn import metrics\n",
    "accuracy = metrics.accuracy_score(Yn,Predict_X)\n",
    "print(\"Accurecy :\",accuracy)\n",
    "print(Xn.shape,Yn.shape,Predict_X.shape)"
   ]
  }
 ],
 "metadata": {
  "colab": {
   "provenance": []
  },
  "kernelspec": {
   "display_name": "Python 3 (ipykernel)",
   "language": "python",
   "name": "python3"
  },
  "language_info": {
   "codemirror_mode": {
    "name": "ipython",
    "version": 3
   },
   "file_extension": ".py",
   "mimetype": "text/x-python",
   "name": "python",
   "nbconvert_exporter": "python",
   "pygments_lexer": "ipython3",
   "version": "3.10.0"
  }
 },
 "nbformat": 4,
 "nbformat_minor": 1
}
